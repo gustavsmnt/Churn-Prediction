{
  "cells": [
    {
      "cell_type": "markdown",
      "metadata": {
        "id": "w3YpPZPSAb5F"
      },
      "source": [
        "#Import Library\n"
      ]
    },
    {
      "cell_type": "code",
      "execution_count": 17,
      "metadata": {
        "id": "sqRtJI0l_gNk"
      },
      "outputs": [],
      "source": [
        "import pandas as pd\n",
        "import numpy as np\n",
        "import seaborn as sns\n",
        "import warnings\n",
        "import matplotlib.pyplot as plt\n",
        "import plotly.express as px\n",
        "\n",
        "from sklearn.compose import ColumnTransformer\n",
        "from sklearn.pipeline import Pipeline\n",
        "from sklearn.preprocessing import MinMaxScaler,OneHotEncoder\n",
        "from imblearn.over_sampling import SMOTE\n",
        "from imblearn.pipeline import Pipeline as imbPipeline\n",
        "from sklearn.metrics import precision_score, recall_score, f1_score, accuracy_score\n",
        "from sklearn.metrics import roc_curve, roc_auc_score\n",
        "from sklearn.metrics import confusion_matrix\n",
        "from sklearn.model_selection import cross_val_predict\n",
        "from sklearn.model_selection import train_test_split\n",
        "\n",
        "from sklearn import svm\n",
        "from sklearn.linear_model import LogisticRegression\n",
        "from sklearn.ensemble import RandomForestClassifier\n",
        "from sklearn.neighbors import KNeighborsClassifier\n",
        "from sklearn.ensemble import GradientBoostingClassifier\n",
        "\n",
        "warnings.filterwarnings('ignore')"
      ]
    },
    {
      "cell_type": "markdown",
      "metadata": {
        "id": "-zp1ZxFxAh_Z"
      },
      "source": [
        "#Dataset"
      ]
    },
    {
      "cell_type": "code",
      "execution_count": 2,
      "metadata": {
        "id": "RE5FgZyP_ADD"
      },
      "outputs": [],
      "source": [
        "train = pd.read_csv(\"https://raw.githubusercontent.com/hfeez/Client-churn-rate-in-Telecom-sector/main/Data_Train.csv \")\n",
        "test = pd.read_csv(\"https://raw.githubusercontent.com/gustavsmnt/Churn-Prediction/main/Data%20Test.csv \")"
      ]
    },
    {
      "cell_type": "code",
      "execution_count": 3,
      "metadata": {
        "id": "D9waApoJ_0nV"
      },
      "outputs": [],
      "source": [
        "train = pd.DataFrame(train)\n",
        "test = pd.DataFrame(test)"
      ]
    },
    {
      "cell_type": "code",
      "execution_count": 4,
      "metadata": {
        "colab": {
          "base_uri": "https://localhost:8080/",
          "height": 270
        },
        "id": "Pb5hhR6FKb6u",
        "outputId": "f7ce0653-ad2f-45a6-8062-65047a1e2dd2"
      },
      "outputs": [
        {
          "data": {
            "text/html": [
              "<div>\n",
              "<style scoped>\n",
              "    .dataframe tbody tr th:only-of-type {\n",
              "        vertical-align: middle;\n",
              "    }\n",
              "\n",
              "    .dataframe tbody tr th {\n",
              "        vertical-align: top;\n",
              "    }\n",
              "\n",
              "    .dataframe thead th {\n",
              "        text-align: right;\n",
              "    }\n",
              "</style>\n",
              "<table border=\"1\" class=\"dataframe\">\n",
              "  <thead>\n",
              "    <tr style=\"text-align: right;\">\n",
              "      <th></th>\n",
              "      <th>state</th>\n",
              "      <th>account_length</th>\n",
              "      <th>area_code</th>\n",
              "      <th>international_plan</th>\n",
              "      <th>voice_mail_plan</th>\n",
              "      <th>number_vmail_messages</th>\n",
              "      <th>total_day_minutes</th>\n",
              "      <th>total_day_calls</th>\n",
              "      <th>total_day_charge</th>\n",
              "      <th>total_eve_minutes</th>\n",
              "      <th>total_eve_calls</th>\n",
              "      <th>total_eve_charge</th>\n",
              "      <th>total_night_minutes</th>\n",
              "      <th>total_night_calls</th>\n",
              "      <th>total_night_charge</th>\n",
              "      <th>total_intl_minutes</th>\n",
              "      <th>total_intl_calls</th>\n",
              "      <th>total_intl_charge</th>\n",
              "      <th>number_customer_service_calls</th>\n",
              "      <th>churn</th>\n",
              "    </tr>\n",
              "  </thead>\n",
              "  <tbody>\n",
              "    <tr>\n",
              "      <th>0</th>\n",
              "      <td>OH</td>\n",
              "      <td>107</td>\n",
              "      <td>area_code_415</td>\n",
              "      <td>no</td>\n",
              "      <td>yes</td>\n",
              "      <td>26</td>\n",
              "      <td>161.6</td>\n",
              "      <td>123</td>\n",
              "      <td>27.47</td>\n",
              "      <td>195.5</td>\n",
              "      <td>103</td>\n",
              "      <td>16.62</td>\n",
              "      <td>254.4</td>\n",
              "      <td>103</td>\n",
              "      <td>11.45</td>\n",
              "      <td>13.7</td>\n",
              "      <td>3</td>\n",
              "      <td>3.70</td>\n",
              "      <td>1</td>\n",
              "      <td>no</td>\n",
              "    </tr>\n",
              "    <tr>\n",
              "      <th>1</th>\n",
              "      <td>NJ</td>\n",
              "      <td>137</td>\n",
              "      <td>area_code_415</td>\n",
              "      <td>no</td>\n",
              "      <td>no</td>\n",
              "      <td>0</td>\n",
              "      <td>243.4</td>\n",
              "      <td>114</td>\n",
              "      <td>41.38</td>\n",
              "      <td>121.2</td>\n",
              "      <td>110</td>\n",
              "      <td>10.30</td>\n",
              "      <td>162.6</td>\n",
              "      <td>104</td>\n",
              "      <td>7.32</td>\n",
              "      <td>12.2</td>\n",
              "      <td>5</td>\n",
              "      <td>3.29</td>\n",
              "      <td>0</td>\n",
              "      <td>no</td>\n",
              "    </tr>\n",
              "    <tr>\n",
              "      <th>2</th>\n",
              "      <td>OH</td>\n",
              "      <td>84</td>\n",
              "      <td>area_code_408</td>\n",
              "      <td>yes</td>\n",
              "      <td>no</td>\n",
              "      <td>0</td>\n",
              "      <td>299.4</td>\n",
              "      <td>71</td>\n",
              "      <td>50.90</td>\n",
              "      <td>61.9</td>\n",
              "      <td>88</td>\n",
              "      <td>5.26</td>\n",
              "      <td>196.9</td>\n",
              "      <td>89</td>\n",
              "      <td>8.86</td>\n",
              "      <td>6.6</td>\n",
              "      <td>7</td>\n",
              "      <td>1.78</td>\n",
              "      <td>2</td>\n",
              "      <td>no</td>\n",
              "    </tr>\n",
              "    <tr>\n",
              "      <th>3</th>\n",
              "      <td>OK</td>\n",
              "      <td>75</td>\n",
              "      <td>area_code_415</td>\n",
              "      <td>yes</td>\n",
              "      <td>no</td>\n",
              "      <td>0</td>\n",
              "      <td>166.7</td>\n",
              "      <td>113</td>\n",
              "      <td>28.34</td>\n",
              "      <td>148.3</td>\n",
              "      <td>122</td>\n",
              "      <td>12.61</td>\n",
              "      <td>186.9</td>\n",
              "      <td>121</td>\n",
              "      <td>8.41</td>\n",
              "      <td>10.1</td>\n",
              "      <td>3</td>\n",
              "      <td>2.73</td>\n",
              "      <td>3</td>\n",
              "      <td>no</td>\n",
              "    </tr>\n",
              "    <tr>\n",
              "      <th>4</th>\n",
              "      <td>MA</td>\n",
              "      <td>121</td>\n",
              "      <td>area_code_510</td>\n",
              "      <td>no</td>\n",
              "      <td>yes</td>\n",
              "      <td>24</td>\n",
              "      <td>218.2</td>\n",
              "      <td>88</td>\n",
              "      <td>37.09</td>\n",
              "      <td>348.5</td>\n",
              "      <td>108</td>\n",
              "      <td>29.62</td>\n",
              "      <td>212.6</td>\n",
              "      <td>118</td>\n",
              "      <td>9.57</td>\n",
              "      <td>7.5</td>\n",
              "      <td>7</td>\n",
              "      <td>2.03</td>\n",
              "      <td>3</td>\n",
              "      <td>no</td>\n",
              "    </tr>\n",
              "  </tbody>\n",
              "</table>\n",
              "</div>"
            ],
            "text/plain": [
              "  state  account_length      area_code international_plan voice_mail_plan  \\\n",
              "0    OH             107  area_code_415                 no             yes   \n",
              "1    NJ             137  area_code_415                 no              no   \n",
              "2    OH              84  area_code_408                yes              no   \n",
              "3    OK              75  area_code_415                yes              no   \n",
              "4    MA             121  area_code_510                 no             yes   \n",
              "\n",
              "   number_vmail_messages  total_day_minutes  total_day_calls  \\\n",
              "0                     26              161.6              123   \n",
              "1                      0              243.4              114   \n",
              "2                      0              299.4               71   \n",
              "3                      0              166.7              113   \n",
              "4                     24              218.2               88   \n",
              "\n",
              "   total_day_charge  total_eve_minutes  total_eve_calls  total_eve_charge  \\\n",
              "0             27.47              195.5              103             16.62   \n",
              "1             41.38              121.2              110             10.30   \n",
              "2             50.90               61.9               88              5.26   \n",
              "3             28.34              148.3              122             12.61   \n",
              "4             37.09              348.5              108             29.62   \n",
              "\n",
              "   total_night_minutes  total_night_calls  total_night_charge  \\\n",
              "0                254.4                103               11.45   \n",
              "1                162.6                104                7.32   \n",
              "2                196.9                 89                8.86   \n",
              "3                186.9                121                8.41   \n",
              "4                212.6                118                9.57   \n",
              "\n",
              "   total_intl_minutes  total_intl_calls  total_intl_charge  \\\n",
              "0                13.7                 3               3.70   \n",
              "1                12.2                 5               3.29   \n",
              "2                 6.6                 7               1.78   \n",
              "3                10.1                 3               2.73   \n",
              "4                 7.5                 7               2.03   \n",
              "\n",
              "   number_customer_service_calls churn  \n",
              "0                              1    no  \n",
              "1                              0    no  \n",
              "2                              2    no  \n",
              "3                              3    no  \n",
              "4                              3    no  "
            ]
          },
          "execution_count": 4,
          "metadata": {},
          "output_type": "execute_result"
        }
      ],
      "source": [
        "train.head()"
      ]
    },
    {
      "cell_type": "markdown",
      "metadata": {
        "id": "qqCBLv0pAoPG"
      },
      "source": [
        "#EDA "
      ]
    },
    {
      "cell_type": "markdown",
      "metadata": {
        "id": "qzsXae-nA3Hb"
      },
      "source": [
        "##Data Info"
      ]
    },
    {
      "cell_type": "code",
      "execution_count": 5,
      "metadata": {
        "colab": {
          "base_uri": "https://localhost:8080/",
          "height": 732
        },
        "id": "HRwaiC74Eaeh",
        "outputId": "b039e6b9-ff78-42c2-d0a5-37358f450b26"
      },
      "outputs": [
        {
          "name": "stdout",
          "output_type": "stream",
          "text": [
            "Total Rows : 4250\n",
            "Total Features : 20\n",
            "Duplicate Value: 0\n"
          ]
        },
        {
          "data": {
            "text/html": [
              "<div>\n",
              "<style scoped>\n",
              "    .dataframe tbody tr th:only-of-type {\n",
              "        vertical-align: middle;\n",
              "    }\n",
              "\n",
              "    .dataframe tbody tr th {\n",
              "        vertical-align: top;\n",
              "    }\n",
              "\n",
              "    .dataframe thead th {\n",
              "        text-align: right;\n",
              "    }\n",
              "</style>\n",
              "<table border=\"1\" class=\"dataframe\">\n",
              "  <thead>\n",
              "    <tr style=\"text-align: right;\">\n",
              "      <th></th>\n",
              "      <th>Feature</th>\n",
              "      <th>Data Type</th>\n",
              "      <th>Null</th>\n",
              "      <th>Null (%)</th>\n",
              "    </tr>\n",
              "  </thead>\n",
              "  <tbody>\n",
              "    <tr>\n",
              "      <th>0</th>\n",
              "      <td>state</td>\n",
              "      <td>object</td>\n",
              "      <td>0</td>\n",
              "      <td>0.0</td>\n",
              "    </tr>\n",
              "    <tr>\n",
              "      <th>1</th>\n",
              "      <td>account_length</td>\n",
              "      <td>int64</td>\n",
              "      <td>0</td>\n",
              "      <td>0.0</td>\n",
              "    </tr>\n",
              "    <tr>\n",
              "      <th>2</th>\n",
              "      <td>area_code</td>\n",
              "      <td>object</td>\n",
              "      <td>0</td>\n",
              "      <td>0.0</td>\n",
              "    </tr>\n",
              "    <tr>\n",
              "      <th>3</th>\n",
              "      <td>international_plan</td>\n",
              "      <td>object</td>\n",
              "      <td>0</td>\n",
              "      <td>0.0</td>\n",
              "    </tr>\n",
              "    <tr>\n",
              "      <th>4</th>\n",
              "      <td>voice_mail_plan</td>\n",
              "      <td>object</td>\n",
              "      <td>0</td>\n",
              "      <td>0.0</td>\n",
              "    </tr>\n",
              "    <tr>\n",
              "      <th>5</th>\n",
              "      <td>number_vmail_messages</td>\n",
              "      <td>int64</td>\n",
              "      <td>0</td>\n",
              "      <td>0.0</td>\n",
              "    </tr>\n",
              "    <tr>\n",
              "      <th>6</th>\n",
              "      <td>total_day_minutes</td>\n",
              "      <td>float64</td>\n",
              "      <td>0</td>\n",
              "      <td>0.0</td>\n",
              "    </tr>\n",
              "    <tr>\n",
              "      <th>7</th>\n",
              "      <td>total_day_calls</td>\n",
              "      <td>int64</td>\n",
              "      <td>0</td>\n",
              "      <td>0.0</td>\n",
              "    </tr>\n",
              "    <tr>\n",
              "      <th>8</th>\n",
              "      <td>total_day_charge</td>\n",
              "      <td>float64</td>\n",
              "      <td>0</td>\n",
              "      <td>0.0</td>\n",
              "    </tr>\n",
              "    <tr>\n",
              "      <th>9</th>\n",
              "      <td>total_eve_minutes</td>\n",
              "      <td>float64</td>\n",
              "      <td>0</td>\n",
              "      <td>0.0</td>\n",
              "    </tr>\n",
              "    <tr>\n",
              "      <th>10</th>\n",
              "      <td>total_eve_calls</td>\n",
              "      <td>int64</td>\n",
              "      <td>0</td>\n",
              "      <td>0.0</td>\n",
              "    </tr>\n",
              "    <tr>\n",
              "      <th>11</th>\n",
              "      <td>total_eve_charge</td>\n",
              "      <td>float64</td>\n",
              "      <td>0</td>\n",
              "      <td>0.0</td>\n",
              "    </tr>\n",
              "    <tr>\n",
              "      <th>12</th>\n",
              "      <td>total_night_minutes</td>\n",
              "      <td>float64</td>\n",
              "      <td>0</td>\n",
              "      <td>0.0</td>\n",
              "    </tr>\n",
              "    <tr>\n",
              "      <th>13</th>\n",
              "      <td>total_night_calls</td>\n",
              "      <td>int64</td>\n",
              "      <td>0</td>\n",
              "      <td>0.0</td>\n",
              "    </tr>\n",
              "    <tr>\n",
              "      <th>14</th>\n",
              "      <td>total_night_charge</td>\n",
              "      <td>float64</td>\n",
              "      <td>0</td>\n",
              "      <td>0.0</td>\n",
              "    </tr>\n",
              "    <tr>\n",
              "      <th>15</th>\n",
              "      <td>total_intl_minutes</td>\n",
              "      <td>float64</td>\n",
              "      <td>0</td>\n",
              "      <td>0.0</td>\n",
              "    </tr>\n",
              "    <tr>\n",
              "      <th>16</th>\n",
              "      <td>total_intl_calls</td>\n",
              "      <td>int64</td>\n",
              "      <td>0</td>\n",
              "      <td>0.0</td>\n",
              "    </tr>\n",
              "    <tr>\n",
              "      <th>17</th>\n",
              "      <td>total_intl_charge</td>\n",
              "      <td>float64</td>\n",
              "      <td>0</td>\n",
              "      <td>0.0</td>\n",
              "    </tr>\n",
              "    <tr>\n",
              "      <th>18</th>\n",
              "      <td>number_customer_service_calls</td>\n",
              "      <td>int64</td>\n",
              "      <td>0</td>\n",
              "      <td>0.0</td>\n",
              "    </tr>\n",
              "    <tr>\n",
              "      <th>19</th>\n",
              "      <td>churn</td>\n",
              "      <td>object</td>\n",
              "      <td>0</td>\n",
              "      <td>0.0</td>\n",
              "    </tr>\n",
              "  </tbody>\n",
              "</table>\n",
              "</div>"
            ],
            "text/plain": [
              "                          Feature Data Type  Null  Null (%)\n",
              "0                           state    object     0       0.0\n",
              "1                  account_length     int64     0       0.0\n",
              "2                       area_code    object     0       0.0\n",
              "3              international_plan    object     0       0.0\n",
              "4                 voice_mail_plan    object     0       0.0\n",
              "5           number_vmail_messages     int64     0       0.0\n",
              "6               total_day_minutes   float64     0       0.0\n",
              "7                 total_day_calls     int64     0       0.0\n",
              "8                total_day_charge   float64     0       0.0\n",
              "9               total_eve_minutes   float64     0       0.0\n",
              "10                total_eve_calls     int64     0       0.0\n",
              "11               total_eve_charge   float64     0       0.0\n",
              "12            total_night_minutes   float64     0       0.0\n",
              "13              total_night_calls     int64     0       0.0\n",
              "14             total_night_charge   float64     0       0.0\n",
              "15             total_intl_minutes   float64     0       0.0\n",
              "16               total_intl_calls     int64     0       0.0\n",
              "17              total_intl_charge   float64     0       0.0\n",
              "18  number_customer_service_calls     int64     0       0.0\n",
              "19                          churn    object     0       0.0"
            ]
          },
          "execution_count": 5,
          "metadata": {},
          "output_type": "execute_result"
        }
      ],
      "source": [
        "print(\"Total Rows :\", train.shape[0])\n",
        "print(\"Total Features :\", train.shape[1])\n",
        "print(\"Duplicate Value:\", train.duplicated().sum())\n",
        "list_train = []\n",
        "for col in train.columns:\n",
        "    list_train.append([col, train[col].dtype, train[col].isna().sum(), 100*train[col].isna().sum()/len(train[col])])\n",
        "train_desc = pd.DataFrame(data=list_train, columns=['Feature','Data Type','Null', 'Null (%)'])\n",
        "train_desc"
      ]
    },
    {
      "cell_type": "markdown",
      "metadata": {
        "id": "7G0QrHJ3A9z5"
      },
      "source": [
        "##Data Shape"
      ]
    },
    {
      "cell_type": "code",
      "execution_count": 6,
      "metadata": {
        "colab": {
          "base_uri": "https://localhost:8080/"
        },
        "id": "3WRCWAR8AtiW",
        "outputId": "efdc9453-ceb9-4d99-90f3-0cf246ea490b"
      },
      "outputs": [
        {
          "data": {
            "text/plain": [
              "((4250, 20), (750, 20))"
            ]
          },
          "execution_count": 6,
          "metadata": {},
          "output_type": "execute_result"
        }
      ],
      "source": [
        "train.shape, test.shape"
      ]
    },
    {
      "cell_type": "markdown",
      "metadata": {
        "id": "LEw5ikQZChIm"
      },
      "source": [
        "##Categorical and Numerical Columns"
      ]
    },
    {
      "cell_type": "markdown",
      "metadata": {
        "id": "xtU6uq3vClem"
      },
      "source": [
        "###Numerical Columns"
      ]
    },
    {
      "cell_type": "code",
      "execution_count": 7,
      "metadata": {
        "colab": {
          "base_uri": "https://localhost:8080/"
        },
        "id": "ur6pLQcsCkbM",
        "outputId": "a5c2114a-e369-4056-c98b-d14584de619e"
      },
      "outputs": [
        {
          "data": {
            "text/plain": [
              "Index(['account_length', 'number_vmail_messages', 'total_day_minutes',\n",
              "       'total_day_calls', 'total_day_charge', 'total_eve_minutes',\n",
              "       'total_eve_calls', 'total_eve_charge', 'total_night_minutes',\n",
              "       'total_night_calls', 'total_night_charge', 'total_intl_minutes',\n",
              "       'total_intl_calls', 'total_intl_charge',\n",
              "       'number_customer_service_calls'],\n",
              "      dtype='object')"
            ]
          },
          "execution_count": 7,
          "metadata": {},
          "output_type": "execute_result"
        }
      ],
      "source": [
        "numerical_features = train.select_dtypes(include = [np.number])\n",
        "numerical_features.columns"
      ]
    },
    {
      "cell_type": "markdown",
      "metadata": {
        "id": "Lcp5WwIWCrW9"
      },
      "source": [
        "###Categorical Columns"
      ]
    },
    {
      "cell_type": "code",
      "execution_count": 10,
      "metadata": {
        "colab": {
          "base_uri": "https://localhost:8080/"
        },
        "id": "0VfxTKp8Cw6e",
        "outputId": "53e342b1-5a20-42d5-f30a-fa60cbaa4c52"
      },
      "outputs": [
        {
          "data": {
            "text/plain": [
              "Index(['state', 'area_code', 'international_plan', 'voice_mail_plan', 'churn'], dtype='object')"
            ]
          },
          "execution_count": 10,
          "metadata": {},
          "output_type": "execute_result"
        }
      ],
      "source": [
        "categorical_features = train.select_dtypes(include = object)\n",
        "categorical_features.columns"
      ]
    },
    {
      "cell_type": "markdown",
      "metadata": {
        "id": "FTbqvCNuBRXs"
      },
      "source": [
        "##Distribution on Target"
      ]
    },
    {
      "cell_type": "code",
      "execution_count": 11,
      "metadata": {
        "colab": {
          "base_uri": "https://localhost:8080/",
          "height": 504
        },
        "id": "aV9qZBAhCIJ-",
        "outputId": "94d868f0-d3de-4d74-bbd1-d2c2de5664f4"
      },
      "outputs": [
        {
          "data": {
            "text/plain": [
              "no     3652\n",
              "yes     598\n",
              "Name: churn, dtype: int64"
            ]
          },
          "execution_count": 11,
          "metadata": {},
          "output_type": "execute_result"
        },
        {
          "data": {
            "image/png": "[encoded data removed]",
            "text/plain": [
              "<Figure size 640x480 with 1 Axes>"
            ]
          },
          "metadata": {},
          "output_type": "display_data"
        }
      ],
      "source": [
        "sns.countplot(x='churn', data=train, palette='coolwarm_r')\n",
        "train['churn'].value_counts()"
      ]
    },
    {
      "cell_type": "markdown",
      "metadata": {
        "id": "kmbtIJ6vHSHq"
      },
      "source": [
        "##Change Target Label to Numerical"
      ]
    },
    {
      "cell_type": "code",
      "execution_count": 12,
      "metadata": {
        "id": "tPw97NacHbX0"
      },
      "outputs": [],
      "source": [
        "train['churn'].replace(['yes', 'no'],[1, 0], inplace=True)"
      ]
    },
    {
      "cell_type": "markdown",
      "metadata": {
        "id": "oRgqiH0pGcsC"
      },
      "source": [
        "##Relationship between Columns"
      ]
    },
    {
      "cell_type": "code",
      "execution_count": 13,
      "metadata": {
        "colab": {
          "base_uri": "https://localhost:8080/",
          "height": 1000
        },
        "id": "ydTYb898GEOy",
        "outputId": "2cdba833-e17b-4111-da39-6c9d7341bf1d"
      },
      "outputs": [
        {
          "data": {
            "text/plain": [
              "<AxesSubplot: >"
            ]
          },
          "execution_count": 13,
          "metadata": {},
          "output_type": "execute_result"
        },
        {
          "data": {
            "image/png": "[encoded data removed]",
            "text/plain": [
              "<Figure size 2000x2000 with 2 Axes>"
            ]
          },
          "metadata": {},
          "output_type": "display_data"
        }
      ],
      "source": [
        "plt.figure(figsize=(20,20))\n",
        "sns.heatmap(train.corr(),annot=True,cmap='BuPu',fmt='.2f')"
      ]
    },
    {
      "cell_type": "code",
      "execution_count": 14,
      "metadata": {
        "id": "5CvAzB0aGiVP"
      },
      "outputs": [],
      "source": [
        "correlations = (train.select_dtypes(exclude=object)\n",
        "                .corr()\n",
        "                .dropna(how=\"all\", axis=0)\n",
        "                .dropna(how=\"all\", axis=1)\n",
        ")"
      ]
    },
    {
      "cell_type": "code",
      "execution_count": 15,
      "metadata": {
        "colab": {
          "base_uri": "https://localhost:8080/"
        },
        "id": "ucnpAxiRGq5f",
        "outputId": "3c21f01e-5c71-43ba-cf55-d4f18578fd8c"
      },
      "outputs": [
        {
          "data": {
            "text/plain": [
              "churn                            1.000000\n",
              "number_customer_service_calls    0.221220\n",
              "total_day_minutes                0.215272\n",
              "total_day_charge                 0.215263\n",
              "total_eve_minutes                0.078855\n",
              "total_eve_charge                 0.078852\n",
              "total_intl_minutes               0.055186\n",
              "total_intl_charge                0.055177\n",
              "total_night_minutes              0.046647\n",
              "total_night_charge               0.046641\n",
              "account_length                   0.019378\n",
              "total_day_calls                  0.011640\n",
              "total_eve_calls                 -0.006817\n",
              "total_night_calls               -0.012699\n",
              "total_intl_calls                -0.034334\n",
              "number_vmail_messages           -0.100347\n",
              "Name: churn, dtype: float64"
            ]
          },
          "execution_count": 15,
          "metadata": {},
          "output_type": "execute_result"
        }
      ],
      "source": [
        "correlations['churn'].sort_values(ascending=False)"
      ]
    },
    {
      "cell_type": "markdown",
      "metadata": {
        "id": "Q1wQ8ZQ8Nt3t"
      },
      "source": [
        "#Preprocessor"
      ]
    },
    {
      "cell_type": "code",
      "execution_count": 18,
      "metadata": {
        "colab": {
          "base_uri": "https://localhost:8080/"
        },
        "id": "lMgAF2lkNxoI",
        "outputId": "7d68c04b-e4e3-412d-f22d-c30533270a1d"
      },
      "outputs": [
        {
          "data": {
            "text/plain": [
              "((2975, 19), (1275, 19), (2975,), (1275,))"
            ]
          },
          "execution_count": 18,
          "metadata": {},
          "output_type": "execute_result"
        }
      ],
      "source": [
        "X = train.drop(columns=\"churn\")\n",
        "y = train.churn\n",
        "\n",
        "\n",
        "X_train, X_test, y_train, y_test = train_test_split(X, y, test_size=0.3, stratify=y, random_state=42)\n",
        "X_train.shape, X_test.shape, y_train.shape, y_test.shape"
      ]
    },
    {
      "cell_type": "markdown",
      "metadata": {
        "id": "r5d-GgG7UAl-"
      },
      "source": [
        "##Column Transformer"
      ]
    },
    {
      "cell_type": "code",
      "execution_count": 19,
      "metadata": {
        "id": "wRmqc9jMOvAb"
      },
      "outputs": [],
      "source": [
        "preprocessor = ColumnTransformer(\n",
        "    transformers=[\n",
        "        ('num', MinMaxScaler(), ['account_length', 'number_vmail_messages', 'total_day_minutes',\n",
        "       'total_day_calls', 'total_day_charge', 'total_eve_minutes',\n",
        "       'total_eve_calls', 'total_eve_charge', 'total_night_minutes',\n",
        "       'total_night_calls', 'total_night_charge', 'total_intl_minutes',\n",
        "       'total_intl_calls', 'total_intl_charge',\n",
        "       'number_customer_service_calls']),\n",
        "        ('cat', OneHotEncoder(), ['state', 'area_code', 'international_plan', 'voice_mail_plan'])\n",
        "    ])"
      ]
    },
    {
      "cell_type": "markdown",
      "metadata": {
        "id": "ysj_pWK-PrgF"
      },
      "source": [
        "##Handling Imbalanced Data"
      ]
    },
    {
      "cell_type": "code",
      "execution_count": 20,
      "metadata": {
        "id": "mD7tNeK7P1Li"
      },
      "outputs": [],
      "source": [
        "smt = SMOTE(sampling_strategy = 'not majority', random_state = 42)"
      ]
    },
    {
      "cell_type": "markdown",
      "metadata": {
        "id": "7Xt-eKkANDEh"
      },
      "source": [
        "#Models"
      ]
    },
    {
      "cell_type": "markdown",
      "metadata": {
        "id": "on2Vj6DDQ1IT"
      },
      "source": [
        "##Logistic Regression"
      ]
    },
    {
      "cell_type": "code",
      "execution_count": 21,
      "metadata": {
        "id": "QMjxu2FsNGRO"
      },
      "outputs": [],
      "source": [
        "pipeLR = imbPipeline([\n",
        "    (\"prep\", preprocessor),\n",
        "    (\"smt\",smt),\n",
        "    (\"algo\", LogisticRegression(random_state=42))\n",
        "])"
      ]
    },
    {
      "cell_type": "code",
      "execution_count": 22,
      "metadata": {
        "colab": {
          "base_uri": "https://localhost:8080/",
          "height": 274
        },
        "id": "A4N24-nmR7nM",
        "outputId": "b00d5939-f6a6-4c60-e60e-3fbab7f4ad5a"
      },
      "outputs": [
        {
          "data": {
            "text/html": [
              "<style>#sk-container-id-1 {color: black;background-color: white;}#sk-container-id-1 pre{padding: 0;}#sk-container-id-1 div.sk-toggleable {background-color: white;}#sk-container-id-1 label.sk-toggleable__label {cursor: pointer;display: block;width: 100%;margin-bottom: 0;padding: 0.3em;box-sizing: border-box;text-align: center;}#sk-container-id-1 label.sk-toggleable__label-arrow:before {content: \"▸\";float: left;margin-right: 0.25em;color: #696969;}#sk-container-id-1 label.sk-toggleable__label-arrow:hover:before {color: black;}#sk-container-id-1 div.sk-estimator:hover label.sk-toggleable__label-arrow:before {color: black;}#sk-container-id-1 div.sk-toggleable__content {max-height: 0;max-width: 0;overflow: hidden;text-align: left;background-color: #f0f8ff;}#sk-container-id-1 div.sk-toggleable__content pre {margin: 0.2em;color: black;border-radius: 0.25em;background-color: #f0f8ff;}#sk-container-id-1 input.sk-toggleable__control:checked~div.sk-toggleable__content {max-height: 200px;max-width: 100%;overflow: auto;}#sk-container-id-1 input.sk-toggleable__control:checked~label.sk-toggleable__label-arrow:before {content: \"▾\";}#sk-container-id-1 div.sk-estimator input.sk-toggleable__control:checked~label.sk-toggleable__label {background-color: #d4ebff;}#sk-container-id-1 div.sk-label input.sk-toggleable__control:checked~label.sk-toggleable__label {background-color: #d4ebff;}#sk-container-id-1 input.sk-hidden--visually {border: 0;clip: rect(1px 1px 1px 1px);clip: rect(1px, 1px, 1px, 1px);height: 1px;margin: -1px;overflow: hidden;padding: 0;position: absolute;width: 1px;}#sk-container-id-1 div.sk-estimator {font-family: monospace;background-color: #f0f8ff;border: 1px dotted black;border-radius: 0.25em;box-sizing: border-box;margin-bottom: 0.5em;}#sk-container-id-1 div.sk-estimator:hover {background-color: #d4ebff;}#sk-container-id-1 div.sk-parallel-item::after {content: \"\";width: 100%;border-bottom: 1px solid gray;flex-grow: 1;}#sk-container-id-1 div.sk-label:hover label.sk-toggleable__label {background-color: #d4ebff;}#sk-container-id-1 div.sk-serial::before {content: \"\";position: absolute;border-left: 1px solid gray;box-sizing: border-box;top: 0;bottom: 0;left: 50%;z-index: 0;}#sk-container-id-1 div.sk-serial {display: flex;flex-direction: column;align-items: center;background-color: white;padding-right: 0.2em;padding-left: 0.2em;position: relative;}#sk-container-id-1 div.sk-item {position: relative;z-index: 1;}#sk-container-id-1 div.sk-parallel {display: flex;align-items: stretch;justify-content: center;background-color: white;position: relative;}#sk-container-id-1 div.sk-item::before, #sk-container-id-1 div.sk-parallel-item::before {content: \"\";position: absolute;border-left: 1px solid gray;box-sizing: border-box;top: 0;bottom: 0;left: 50%;z-index: -1;}#sk-container-id-1 div.sk-parallel-item {display: flex;flex-direction: column;z-index: 1;position: relative;background-color: white;}#sk-container-id-1 div.sk-parallel-item:first-child::after {align-self: flex-end;width: 50%;}#sk-container-id-1 div.sk-parallel-item:last-child::after {align-self: flex-start;width: 50%;}#sk-container-id-1 div.sk-parallel-item:only-child::after {width: 0;}#sk-container-id-1 div.sk-dashed-wrapped {border: 1px dashed gray;margin: 0 0.4em 0.5em 0.4em;box-sizing: border-box;padding-bottom: 0.4em;background-color: white;}#sk-container-id-1 div.sk-label label {font-family: monospace;font-weight: bold;display: inline-block;line-height: 1.2em;}#sk-container-id-1 div.sk-label-container {text-align: center;}#sk-container-id-1 div.sk-container {/* jupyter's `normalize.less` sets `[hidden] { display: none; }` but bootstrap.min.css set `[hidden] { display: none !important; }` so we also need the `!important` here to be able to override the default hidden behavior on the sphinx rendered scikit-learn.org. See: https://github.com/scikit-learn/scikit-learn/issues/21755 */display: inline-block !important;position: relative;}#sk-container-id-1 div.sk-text-repr-fallback {display: none;}</style><div id=\"sk-container-id-1\" class=\"sk-top-container\"><div class=\"sk-text-repr-fallback\"><pre>Pipeline(steps=[(&#x27;prep&#x27;,\n",
              "                 ColumnTransformer(transformers=[(&#x27;num&#x27;, MinMaxScaler(),\n",
              "                                                  [&#x27;account_length&#x27;,\n",
              "                                                   &#x27;number_vmail_messages&#x27;,\n",
              "                                                   &#x27;total_day_minutes&#x27;,\n",
              "                                                   &#x27;total_day_calls&#x27;,\n",
              "                                                   &#x27;total_day_charge&#x27;,\n",
              "                                                   &#x27;total_eve_minutes&#x27;,\n",
              "                                                   &#x27;total_eve_calls&#x27;,\n",
              "                                                   &#x27;total_eve_charge&#x27;,\n",
              "                                                   &#x27;total_night_minutes&#x27;,\n",
              "                                                   &#x27;total_night_calls&#x27;,\n",
              "                                                   &#x27;total_night_charge&#x27;,\n",
              "                                                   &#x27;total_intl_minutes&#x27;,\n",
              "                                                   &#x27;total_intl_calls&#x27;,\n",
              "                                                   &#x27;total_intl_charge&#x27;,\n",
              "                                                   &#x27;number_customer_service_calls&#x27;]),\n",
              "                                                 (&#x27;cat&#x27;, OneHotEncoder(),\n",
              "                                                  [&#x27;state&#x27;, &#x27;area_code&#x27;,\n",
              "                                                   &#x27;international_plan&#x27;,\n",
              "                                                   &#x27;voice_mail_plan&#x27;])])),\n",
              "                (&#x27;smt&#x27;,\n",
              "                 SMOTE(random_state=42, sampling_strategy=&#x27;not majority&#x27;)),\n",
              "                (&#x27;algo&#x27;, LogisticRegression(random_state=42))])</pre><b>In a Jupyter environment, please rerun this cell to show the HTML representation or trust the notebook. <br />On GitHub, the HTML representation is unable to render, please try loading this page with nbviewer.org.</b></div><div class=\"sk-container\" hidden><div class=\"sk-item sk-dashed-wrapped\"><div class=\"sk-label-container\"><div class=\"sk-label sk-toggleable\"><input class=\"sk-toggleable__control sk-hidden--visually\" id=\"sk-estimator-id-1\" type=\"checkbox\" ><label for=\"sk-estimator-id-1\" class=\"sk-toggleable__label sk-toggleable__label-arrow\">Pipeline</label><div class=\"sk-toggleable__content\"><pre>Pipeline(steps=[(&#x27;prep&#x27;,\n",
              "                 ColumnTransformer(transformers=[(&#x27;num&#x27;, MinMaxScaler(),\n",
              "                                                  [&#x27;account_length&#x27;,\n",
              "                                                   &#x27;number_vmail_messages&#x27;,\n",
              "                                                   &#x27;total_day_minutes&#x27;,\n",
              "                                                   &#x27;total_day_calls&#x27;,\n",
              "                                                   &#x27;total_day_charge&#x27;,\n",
              "                                                   &#x27;total_eve_minutes&#x27;,\n",
              "                                                   &#x27;total_eve_calls&#x27;,\n",
              "                                                   &#x27;total_eve_charge&#x27;,\n",
              "                                                   &#x27;total_night_minutes&#x27;,\n",
              "                                                   &#x27;total_night_calls&#x27;,\n",
              "                                                   &#x27;total_night_charge&#x27;,\n",
              "                                                   &#x27;total_intl_minutes&#x27;,\n",
              "                                                   &#x27;total_intl_calls&#x27;,\n",
              "                                                   &#x27;total_intl_charge&#x27;,\n",
              "                                                   &#x27;number_customer_service_calls&#x27;]),\n",
              "                                                 (&#x27;cat&#x27;, OneHotEncoder(),\n",
              "                                                  [&#x27;state&#x27;, &#x27;area_code&#x27;,\n",
              "                                                   &#x27;international_plan&#x27;,\n",
              "                                                   &#x27;voice_mail_plan&#x27;])])),\n",
              "                (&#x27;smt&#x27;,\n",
              "                 SMOTE(random_state=42, sampling_strategy=&#x27;not majority&#x27;)),\n",
              "                (&#x27;algo&#x27;, LogisticRegression(random_state=42))])</pre></div></div></div><div class=\"sk-serial\"><div class=\"sk-item sk-dashed-wrapped\"><div class=\"sk-label-container\"><div class=\"sk-label sk-toggleable\"><input class=\"sk-toggleable__control sk-hidden--visually\" id=\"sk-estimator-id-2\" type=\"checkbox\" ><label for=\"sk-estimator-id-2\" class=\"sk-toggleable__label sk-toggleable__label-arrow\">prep: ColumnTransformer</label><div class=\"sk-toggleable__content\"><pre>ColumnTransformer(transformers=[(&#x27;num&#x27;, MinMaxScaler(),\n",
              "                                 [&#x27;account_length&#x27;, &#x27;number_vmail_messages&#x27;,\n",
              "                                  &#x27;total_day_minutes&#x27;, &#x27;total_day_calls&#x27;,\n",
              "                                  &#x27;total_day_charge&#x27;, &#x27;total_eve_minutes&#x27;,\n",
              "                                  &#x27;total_eve_calls&#x27;, &#x27;total_eve_charge&#x27;,\n",
              "                                  &#x27;total_night_minutes&#x27;, &#x27;total_night_calls&#x27;,\n",
              "                                  &#x27;total_night_charge&#x27;, &#x27;total_intl_minutes&#x27;,\n",
              "                                  &#x27;total_intl_calls&#x27;, &#x27;total_intl_charge&#x27;,\n",
              "                                  &#x27;number_customer_service_calls&#x27;]),\n",
              "                                (&#x27;cat&#x27;, OneHotEncoder(),\n",
              "                                 [&#x27;state&#x27;, &#x27;area_code&#x27;, &#x27;international_plan&#x27;,\n",
              "                                  &#x27;voice_mail_plan&#x27;])])</pre></div></div></div><div class=\"sk-parallel\"><div class=\"sk-parallel-item\"><div class=\"sk-item\"><div class=\"sk-label-container\"><div class=\"sk-label sk-toggleable\"><input class=\"sk-toggleable__control sk-hidden--visually\" id=\"sk-estimator-id-3\" type=\"checkbox\" ><label for=\"sk-estimator-id-3\" class=\"sk-toggleable__label sk-toggleable__label-arrow\">num</label><div class=\"sk-toggleable__content\"><pre>[&#x27;account_length&#x27;, &#x27;number_vmail_messages&#x27;, &#x27;total_day_minutes&#x27;, &#x27;total_day_calls&#x27;, &#x27;total_day_charge&#x27;, &#x27;total_eve_minutes&#x27;, &#x27;total_eve_calls&#x27;, &#x27;total_eve_charge&#x27;, &#x27;total_night_minutes&#x27;, &#x27;total_night_calls&#x27;, &#x27;total_night_charge&#x27;, &#x27;total_intl_minutes&#x27;, &#x27;total_intl_calls&#x27;, &#x27;total_intl_charge&#x27;, &#x27;number_customer_service_calls&#x27;]</pre></div></div></div><div class=\"sk-serial\"><div class=\"sk-item\"><div class=\"sk-estimator sk-toggleable\"><input class=\"sk-toggleable__control sk-hidden--visually\" id=\"sk-estimator-id-4\" type=\"checkbox\" ><label for=\"sk-estimator-id-4\" class=\"sk-toggleable__label sk-toggleable__label-arrow\">MinMaxScaler</label><div class=\"sk-toggleable__content\"><pre>MinMaxScaler()</pre></div></div></div></div></div></div><div class=\"sk-parallel-item\"><div class=\"sk-item\"><div class=\"sk-label-container\"><div class=\"sk-label sk-toggleable\"><input class=\"sk-toggleable__control sk-hidden--visually\" id=\"sk-estimator-id-5\" type=\"checkbox\" ><label for=\"sk-estimator-id-5\" class=\"sk-toggleable__label sk-toggleable__label-arrow\">cat</label><div class=\"sk-toggleable__content\"><pre>[&#x27;state&#x27;, &#x27;area_code&#x27;, &#x27;international_plan&#x27;, &#x27;voice_mail_plan&#x27;]</pre></div></div></div><div class=\"sk-serial\"><div class=\"sk-item\"><div class=\"sk-estimator sk-toggleable\"><input class=\"sk-toggleable__control sk-hidden--visually\" id=\"sk-estimator-id-6\" type=\"checkbox\" ><label for=\"sk-estimator-id-6\" class=\"sk-toggleable__label sk-toggleable__label-arrow\">OneHotEncoder</label><div class=\"sk-toggleable__content\"><pre>OneHotEncoder()</pre></div></div></div></div></div></div></div></div><div class=\"sk-item\"><div class=\"sk-estimator sk-toggleable\"><input class=\"sk-toggleable__control sk-hidden--visually\" id=\"sk-estimator-id-7\" type=\"checkbox\" ><label for=\"sk-estimator-id-7\" class=\"sk-toggleable__label sk-toggleable__label-arrow\">SMOTE</label><div class=\"sk-toggleable__content\"><pre>SMOTE(random_state=42, sampling_strategy=&#x27;not majority&#x27;)</pre></div></div></div><div class=\"sk-item\"><div class=\"sk-estimator sk-toggleable\"><input class=\"sk-toggleable__control sk-hidden--visually\" id=\"sk-estimator-id-8\" type=\"checkbox\" ><label for=\"sk-estimator-id-8\" class=\"sk-toggleable__label sk-toggleable__label-arrow\">LogisticRegression</label><div class=\"sk-toggleable__content\"><pre>LogisticRegression(random_state=42)</pre></div></div></div></div></div></div></div>"
            ],
            "text/plain": [
              "Pipeline(steps=[('prep',\n",
              "                 ColumnTransformer(transformers=[('num', MinMaxScaler(),\n",
              "                                                  ['account_length',\n",
              "                                                   'number_vmail_messages',\n",
              "                                                   'total_day_minutes',\n",
              "                                                   'total_day_calls',\n",
              "                                                   'total_day_charge',\n",
              "                                                   'total_eve_minutes',\n",
              "                                                   'total_eve_calls',\n",
              "                                                   'total_eve_charge',\n",
              "                                                   'total_night_minutes',\n",
              "                                                   'total_night_calls',\n",
              "                                                   'total_night_charge',\n",
              "                                                   'total_intl_minutes',\n",
              "                                                   'total_intl_calls',\n",
              "                                                   'total_intl_charge',\n",
              "                                                   'number_customer_service_calls']),\n",
              "                                                 ('cat', OneHotEncoder(),\n",
              "                                                  ['state', 'area_code',\n",
              "                                                   'international_plan',\n",
              "                                                   'voice_mail_plan'])])),\n",
              "                ('smt',\n",
              "                 SMOTE(random_state=42, sampling_strategy='not majority')),\n",
              "                ('algo', LogisticRegression(random_state=42))])"
            ]
          },
          "execution_count": 22,
          "metadata": {},
          "output_type": "execute_result"
        }
      ],
      "source": [
        "pipeLR.fit(X_train, y_train)"
      ]
    },
    {
      "cell_type": "code",
      "execution_count": 23,
      "metadata": {
        "colab": {
          "base_uri": "https://localhost:8080/"
        },
        "id": "nR4sa5_SXYW7",
        "outputId": "babcc653-b8a7-4154-84a9-cb86cb63538c"
      },
      "outputs": [
        {
          "data": {
            "text/plain": [
              "0.7647058823529411"
            ]
          },
          "execution_count": 23,
          "metadata": {},
          "output_type": "execute_result"
        }
      ],
      "source": [
        "pipeLR.score(X_test, y_test)"
      ]
    },
    {
      "cell_type": "code",
      "execution_count": 24,
      "metadata": {
        "id": "ltPZ0q8dahXQ"
      },
      "outputs": [],
      "source": [
        "y_pred = pipeLR.predict(X_test)"
      ]
    },
    {
      "cell_type": "code",
      "execution_count": 25,
      "metadata": {
        "id": "aUmN6s1UanSU"
      },
      "outputs": [],
      "source": [
        "conf_matrix = confusion_matrix(y_true = y_test, y_pred = y_pred)"
      ]
    },
    {
      "cell_type": "code",
      "execution_count": 26,
      "metadata": {
        "colab": {
          "base_uri": "https://localhost:8080/",
          "height": 368
        },
        "id": "elnsBLwXaxMb",
        "outputId": "ca5d585c-2404-4f19-f58e-5b15a3159c0c"
      },
      "outputs": [
        {
          "data": {
            "image/png": "[encoded data removed]",
            "text/plain": [
              "<Figure size 500x400 with 2 Axes>"
            ]
          },
          "metadata": {},
          "output_type": "display_data"
        }
      ],
      "source": [
        "plt.figure(figsize=(5, 4))\n",
        "sns.heatmap(conf_matrix, annot=True, fmt=\"g\")\n",
        "plt.show()"
      ]
    },
    {
      "cell_type": "markdown",
      "metadata": {
        "id": "nRcs7F5rNseh"
      },
      "source": [
        "## SVM"
      ]
    },
    {
      "cell_type": "code",
      "execution_count": 27,
      "metadata": {
        "id": "dVdbfVNjZiSI"
      },
      "outputs": [],
      "source": [
        "pipeSVM = imbPipeline([\n",
        "    (\"prep\", preprocessor),\n",
        "    (\"smt\",smt),\n",
        "    (\"algo\", svm.SVC(random_state=42, probability=True))\n",
        "])"
      ]
    },
    {
      "cell_type": "code",
      "execution_count": 28,
      "metadata": {
        "colab": {
          "base_uri": "https://localhost:8080/",
          "height": 274
        },
        "id": "4I4EhzvsZpUb",
        "outputId": "d0ca5f3d-67e8-47e8-aecc-36f9d3a09852"
      },
      "outputs": [
        {
          "data": {
            "text/html": [
              "<style>#sk-container-id-2 {color: black;background-color: white;}#sk-container-id-2 pre{padding: 0;}#sk-container-id-2 div.sk-toggleable {background-color: white;}#sk-container-id-2 label.sk-toggleable__label {cursor: pointer;display: block;width: 100%;margin-bottom: 0;padding: 0.3em;box-sizing: border-box;text-align: center;}#sk-container-id-2 label.sk-toggleable__label-arrow:before {content: \"▸\";float: left;margin-right: 0.25em;color: #696969;}#sk-container-id-2 label.sk-toggleable__label-arrow:hover:before {color: black;}#sk-container-id-2 div.sk-estimator:hover label.sk-toggleable__label-arrow:before {color: black;}#sk-container-id-2 div.sk-toggleable__content {max-height: 0;max-width: 0;overflow: hidden;text-align: left;background-color: #f0f8ff;}#sk-container-id-2 div.sk-toggleable__content pre {margin: 0.2em;color: black;border-radius: 0.25em;background-color: #f0f8ff;}#sk-container-id-2 input.sk-toggleable__control:checked~div.sk-toggleable__content {max-height: 200px;max-width: 100%;overflow: auto;}#sk-container-id-2 input.sk-toggleable__control:checked~label.sk-toggleable__label-arrow:before {content: \"▾\";}#sk-container-id-2 div.sk-estimator input.sk-toggleable__control:checked~label.sk-toggleable__label {background-color: #d4ebff;}#sk-container-id-2 div.sk-label input.sk-toggleable__control:checked~label.sk-toggleable__label {background-color: #d4ebff;}#sk-container-id-2 input.sk-hidden--visually {border: 0;clip: rect(1px 1px 1px 1px);clip: rect(1px, 1px, 1px, 1px);height: 1px;margin: -1px;overflow: hidden;padding: 0;position: absolute;width: 1px;}#sk-container-id-2 div.sk-estimator {font-family: monospace;background-color: #f0f8ff;border: 1px dotted black;border-radius: 0.25em;box-sizing: border-box;margin-bottom: 0.5em;}#sk-container-id-2 div.sk-estimator:hover {background-color: #d4ebff;}#sk-container-id-2 div.sk-parallel-item::after {content: \"\";width: 100%;border-bottom: 1px solid gray;flex-grow: 1;}#sk-container-id-2 div.sk-label:hover label.sk-toggleable__label {background-color: #d4ebff;}#sk-container-id-2 div.sk-serial::before {content: \"\";position: absolute;border-left: 1px solid gray;box-sizing: border-box;top: 0;bottom: 0;left: 50%;z-index: 0;}#sk-container-id-2 div.sk-serial {display: flex;flex-direction: column;align-items: center;background-color: white;padding-right: 0.2em;padding-left: 0.2em;position: relative;}#sk-container-id-2 div.sk-item {position: relative;z-index: 1;}#sk-container-id-2 div.sk-parallel {display: flex;align-items: stretch;justify-content: center;background-color: white;position: relative;}#sk-container-id-2 div.sk-item::before, #sk-container-id-2 div.sk-parallel-item::before {content: \"\";position: absolute;border-left: 1px solid gray;box-sizing: border-box;top: 0;bottom: 0;left: 50%;z-index: -1;}#sk-container-id-2 div.sk-parallel-item {display: flex;flex-direction: column;z-index: 1;position: relative;background-color: white;}#sk-container-id-2 div.sk-parallel-item:first-child::after {align-self: flex-end;width: 50%;}#sk-container-id-2 div.sk-parallel-item:last-child::after {align-self: flex-start;width: 50%;}#sk-container-id-2 div.sk-parallel-item:only-child::after {width: 0;}#sk-container-id-2 div.sk-dashed-wrapped {border: 1px dashed gray;margin: 0 0.4em 0.5em 0.4em;box-sizing: border-box;padding-bottom: 0.4em;background-color: white;}#sk-container-id-2 div.sk-label label {font-family: monospace;font-weight: bold;display: inline-block;line-height: 1.2em;}#sk-container-id-2 div.sk-label-container {text-align: center;}#sk-container-id-2 div.sk-container {/* jupyter's `normalize.less` sets `[hidden] { display: none; }` but bootstrap.min.css set `[hidden] { display: none !important; }` so we also need the `!important` here to be able to override the default hidden behavior on the sphinx rendered scikit-learn.org. See: https://github.com/scikit-learn/scikit-learn/issues/21755 */display: inline-block !important;position: relative;}#sk-container-id-2 div.sk-text-repr-fallback {display: none;}</style><div id=\"sk-container-id-2\" class=\"sk-top-container\"><div class=\"sk-text-repr-fallback\"><pre>Pipeline(steps=[(&#x27;prep&#x27;,\n",
              "                 ColumnTransformer(transformers=[(&#x27;num&#x27;, MinMaxScaler(),\n",
              "                                                  [&#x27;account_length&#x27;,\n",
              "                                                   &#x27;number_vmail_messages&#x27;,\n",
              "                                                   &#x27;total_day_minutes&#x27;,\n",
              "                                                   &#x27;total_day_calls&#x27;,\n",
              "                                                   &#x27;total_day_charge&#x27;,\n",
              "                                                   &#x27;total_eve_minutes&#x27;,\n",
              "                                                   &#x27;total_eve_calls&#x27;,\n",
              "                                                   &#x27;total_eve_charge&#x27;,\n",
              "                                                   &#x27;total_night_minutes&#x27;,\n",
              "                                                   &#x27;total_night_calls&#x27;,\n",
              "                                                   &#x27;total_night_charge&#x27;,\n",
              "                                                   &#x27;total_intl_minutes&#x27;,\n",
              "                                                   &#x27;total_intl_calls&#x27;,\n",
              "                                                   &#x27;total_intl_charge&#x27;,\n",
              "                                                   &#x27;number_customer_service_calls&#x27;]),\n",
              "                                                 (&#x27;cat&#x27;, OneHotEncoder(),\n",
              "                                                  [&#x27;state&#x27;, &#x27;area_code&#x27;,\n",
              "                                                   &#x27;international_plan&#x27;,\n",
              "                                                   &#x27;voice_mail_plan&#x27;])])),\n",
              "                (&#x27;smt&#x27;,\n",
              "                 SMOTE(random_state=42, sampling_strategy=&#x27;not majority&#x27;)),\n",
              "                (&#x27;algo&#x27;, SVC(probability=True, random_state=42))])</pre><b>In a Jupyter environment, please rerun this cell to show the HTML representation or trust the notebook. <br />On GitHub, the HTML representation is unable to render, please try loading this page with nbviewer.org.</b></div><div class=\"sk-container\" hidden><div class=\"sk-item sk-dashed-wrapped\"><div class=\"sk-label-container\"><div class=\"sk-label sk-toggleable\"><input class=\"sk-toggleable__control sk-hidden--visually\" id=\"sk-estimator-id-9\" type=\"checkbox\" ><label for=\"sk-estimator-id-9\" class=\"sk-toggleable__label sk-toggleable__label-arrow\">Pipeline</label><div class=\"sk-toggleable__content\"><pre>Pipeline(steps=[(&#x27;prep&#x27;,\n",
              "                 ColumnTransformer(transformers=[(&#x27;num&#x27;, MinMaxScaler(),\n",
              "                                                  [&#x27;account_length&#x27;,\n",
              "                                                   &#x27;number_vmail_messages&#x27;,\n",
              "                                                   &#x27;total_day_minutes&#x27;,\n",
              "                                                   &#x27;total_day_calls&#x27;,\n",
              "                                                   &#x27;total_day_charge&#x27;,\n",
              "                                                   &#x27;total_eve_minutes&#x27;,\n",
              "                                                   &#x27;total_eve_calls&#x27;,\n",
              "                                                   &#x27;total_eve_charge&#x27;,\n",
              "                                                   &#x27;total_night_minutes&#x27;,\n",
              "                                                   &#x27;total_night_calls&#x27;,\n",
              "                                                   &#x27;total_night_charge&#x27;,\n",
              "                                                   &#x27;total_intl_minutes&#x27;,\n",
              "                                                   &#x27;total_intl_calls&#x27;,\n",
              "                                                   &#x27;total_intl_charge&#x27;,\n",
              "                                                   &#x27;number_customer_service_calls&#x27;]),\n",
              "                                                 (&#x27;cat&#x27;, OneHotEncoder(),\n",
              "                                                  [&#x27;state&#x27;, &#x27;area_code&#x27;,\n",
              "                                                   &#x27;international_plan&#x27;,\n",
              "                                                   &#x27;voice_mail_plan&#x27;])])),\n",
              "                (&#x27;smt&#x27;,\n",
              "                 SMOTE(random_state=42, sampling_strategy=&#x27;not majority&#x27;)),\n",
              "                (&#x27;algo&#x27;, SVC(probability=True, random_state=42))])</pre></div></div></div><div class=\"sk-serial\"><div class=\"sk-item sk-dashed-wrapped\"><div class=\"sk-label-container\"><div class=\"sk-label sk-toggleable\"><input class=\"sk-toggleable__control sk-hidden--visually\" id=\"sk-estimator-id-10\" type=\"checkbox\" ><label for=\"sk-estimator-id-10\" class=\"sk-toggleable__label sk-toggleable__label-arrow\">prep: ColumnTransformer</label><div class=\"sk-toggleable__content\"><pre>ColumnTransformer(transformers=[(&#x27;num&#x27;, MinMaxScaler(),\n",
              "                                 [&#x27;account_length&#x27;, &#x27;number_vmail_messages&#x27;,\n",
              "                                  &#x27;total_day_minutes&#x27;, &#x27;total_day_calls&#x27;,\n",
              "                                  &#x27;total_day_charge&#x27;, &#x27;total_eve_minutes&#x27;,\n",
              "                                  &#x27;total_eve_calls&#x27;, &#x27;total_eve_charge&#x27;,\n",
              "                                  &#x27;total_night_minutes&#x27;, &#x27;total_night_calls&#x27;,\n",
              "                                  &#x27;total_night_charge&#x27;, &#x27;total_intl_minutes&#x27;,\n",
              "                                  &#x27;total_intl_calls&#x27;, &#x27;total_intl_charge&#x27;,\n",
              "                                  &#x27;number_customer_service_calls&#x27;]),\n",
              "                                (&#x27;cat&#x27;, OneHotEncoder(),\n",
              "                                 [&#x27;state&#x27;, &#x27;area_code&#x27;, &#x27;international_plan&#x27;,\n",
              "                                  &#x27;voice_mail_plan&#x27;])])</pre></div></div></div><div class=\"sk-parallel\"><div class=\"sk-parallel-item\"><div class=\"sk-item\"><div class=\"sk-label-container\"><div class=\"sk-label sk-toggleable\"><input class=\"sk-toggleable__control sk-hidden--visually\" id=\"sk-estimator-id-11\" type=\"checkbox\" ><label for=\"sk-estimator-id-11\" class=\"sk-toggleable__label sk-toggleable__label-arrow\">num</label><div class=\"sk-toggleable__content\"><pre>[&#x27;account_length&#x27;, &#x27;number_vmail_messages&#x27;, &#x27;total_day_minutes&#x27;, &#x27;total_day_calls&#x27;, &#x27;total_day_charge&#x27;, &#x27;total_eve_minutes&#x27;, &#x27;total_eve_calls&#x27;, &#x27;total_eve_charge&#x27;, &#x27;total_night_minutes&#x27;, &#x27;total_night_calls&#x27;, &#x27;total_night_charge&#x27;, &#x27;total_intl_minutes&#x27;, &#x27;total_intl_calls&#x27;, &#x27;total_intl_charge&#x27;, &#x27;number_customer_service_calls&#x27;]</pre></div></div></div><div class=\"sk-serial\"><div class=\"sk-item\"><div class=\"sk-estimator sk-toggleable\"><input class=\"sk-toggleable__control sk-hidden--visually\" id=\"sk-estimator-id-12\" type=\"checkbox\" ><label for=\"sk-estimator-id-12\" class=\"sk-toggleable__label sk-toggleable__label-arrow\">MinMaxScaler</label><div class=\"sk-toggleable__content\"><pre>MinMaxScaler()</pre></div></div></div></div></div></div><div class=\"sk-parallel-item\"><div class=\"sk-item\"><div class=\"sk-label-container\"><div class=\"sk-label sk-toggleable\"><input class=\"sk-toggleable__control sk-hidden--visually\" id=\"sk-estimator-id-13\" type=\"checkbox\" ><label for=\"sk-estimator-id-13\" class=\"sk-toggleable__label sk-toggleable__label-arrow\">cat</label><div class=\"sk-toggleable__content\"><pre>[&#x27;state&#x27;, &#x27;area_code&#x27;, &#x27;international_plan&#x27;, &#x27;voice_mail_plan&#x27;]</pre></div></div></div><div class=\"sk-serial\"><div class=\"sk-item\"><div class=\"sk-estimator sk-toggleable\"><input class=\"sk-toggleable__control sk-hidden--visually\" id=\"sk-estimator-id-14\" type=\"checkbox\" ><label for=\"sk-estimator-id-14\" class=\"sk-toggleable__label sk-toggleable__label-arrow\">OneHotEncoder</label><div class=\"sk-toggleable__content\"><pre>OneHotEncoder()</pre></div></div></div></div></div></div></div></div><div class=\"sk-item\"><div class=\"sk-estimator sk-toggleable\"><input class=\"sk-toggleable__control sk-hidden--visually\" id=\"sk-estimator-id-15\" type=\"checkbox\" ><label for=\"sk-estimator-id-15\" class=\"sk-toggleable__label sk-toggleable__label-arrow\">SMOTE</label><div class=\"sk-toggleable__content\"><pre>SMOTE(random_state=42, sampling_strategy=&#x27;not majority&#x27;)</pre></div></div></div><div class=\"sk-item\"><div class=\"sk-estimator sk-toggleable\"><input class=\"sk-toggleable__control sk-hidden--visually\" id=\"sk-estimator-id-16\" type=\"checkbox\" ><label for=\"sk-estimator-id-16\" class=\"sk-toggleable__label sk-toggleable__label-arrow\">SVC</label><div class=\"sk-toggleable__content\"><pre>SVC(probability=True, random_state=42)</pre></div></div></div></div></div></div></div>"
            ],
            "text/plain": [
              "Pipeline(steps=[('prep',\n",
              "                 ColumnTransformer(transformers=[('num', MinMaxScaler(),\n",
              "                                                  ['account_length',\n",
              "                                                   'number_vmail_messages',\n",
              "                                                   'total_day_minutes',\n",
              "                                                   'total_day_calls',\n",
              "                                                   'total_day_charge',\n",
              "                                                   'total_eve_minutes',\n",
              "                                                   'total_eve_calls',\n",
              "                                                   'total_eve_charge',\n",
              "                                                   'total_night_minutes',\n",
              "                                                   'total_night_calls',\n",
              "                                                   'total_night_charge',\n",
              "                                                   'total_intl_minutes',\n",
              "                                                   'total_intl_calls',\n",
              "                                                   'total_intl_charge',\n",
              "                                                   'number_customer_service_calls']),\n",
              "                                                 ('cat', OneHotEncoder(),\n",
              "                                                  ['state', 'area_code',\n",
              "                                                   'international_plan',\n",
              "                                                   'voice_mail_plan'])])),\n",
              "                ('smt',\n",
              "                 SMOTE(random_state=42, sampling_strategy='not majority')),\n",
              "                ('algo', SVC(probability=True, random_state=42))])"
            ]
          },
          "execution_count": 28,
          "metadata": {},
          "output_type": "execute_result"
        }
      ],
      "source": [
        "pipeSVM.fit(X_train, y_train)"
      ]
    },
    {
      "cell_type": "code",
      "execution_count": 29,
      "metadata": {
        "colab": {
          "base_uri": "https://localhost:8080/"
        },
        "id": "qqtkqUGCZrTm",
        "outputId": "72b4efac-e382-4351-ed21-012775f155ab"
      },
      "outputs": [
        {
          "data": {
            "text/plain": [
              "0.7898039215686274"
            ]
          },
          "execution_count": 29,
          "metadata": {},
          "output_type": "execute_result"
        }
      ],
      "source": [
        "pipeSVM.score(X_test, y_test)"
      ]
    },
    {
      "cell_type": "code",
      "execution_count": 30,
      "metadata": {
        "id": "pAsue7n_a2AQ"
      },
      "outputs": [],
      "source": [
        "y_pred = pipeSVM.predict(X_test)\n"
      ]
    },
    {
      "cell_type": "code",
      "execution_count": 31,
      "metadata": {
        "id": "drfTAYNZa2ak"
      },
      "outputs": [],
      "source": [
        "conf_matrix = confusion_matrix(y_true = y_test, y_pred = y_pred)"
      ]
    },
    {
      "cell_type": "code",
      "execution_count": 32,
      "metadata": {
        "colab": {
          "base_uri": "https://localhost:8080/",
          "height": 368
        },
        "id": "r6v6R47IcHFF",
        "outputId": "e4000066-d7b1-41ed-d605-d3d7ac951f51"
      },
      "outputs": [
        {
          "data": {
            "image/png": "[encoded data removed]",
            "text/plain": [
              "<Figure size 500x400 with 2 Axes>"
            ]
          },
          "metadata": {},
          "output_type": "display_data"
        }
      ],
      "source": [
        "plt.figure(figsize=(5, 4))\n",
        "sns.heatmap(conf_matrix, annot=True, fmt=\"g\")\n",
        "plt.show()"
      ]
    },
    {
      "cell_type": "markdown",
      "metadata": {
        "id": "cvKqwCdwZehw"
      },
      "source": [
        "## Random Forest"
      ]
    },
    {
      "cell_type": "code",
      "execution_count": 33,
      "metadata": {
        "id": "lhCkQIC-aJ4C"
      },
      "outputs": [],
      "source": [
        "pipeRF = imbPipeline([\n",
        "    (\"prep\", preprocessor),\n",
        "    (\"smt\",smt),\n",
        "    (\"algo\", RandomForestClassifier(random_state=42))\n",
        "])"
      ]
    },
    {
      "cell_type": "code",
      "execution_count": 34,
      "metadata": {
        "colab": {
          "base_uri": "https://localhost:8080/",
          "height": 274
        },
        "id": "_GIWkI5mauKn",
        "outputId": "78088d22-ce38-4284-9d5d-d7a3637dc20b"
      },
      "outputs": [
        {
          "data": {
            "text/html": [
              "<style>#sk-container-id-3 {color: black;background-color: white;}#sk-container-id-3 pre{padding: 0;}#sk-container-id-3 div.sk-toggleable {background-color: white;}#sk-container-id-3 label.sk-toggleable__label {cursor: pointer;display: block;width: 100%;margin-bottom: 0;padding: 0.3em;box-sizing: border-box;text-align: center;}#sk-container-id-3 label.sk-toggleable__label-arrow:before {content: \"▸\";float: left;margin-right: 0.25em;color: #696969;}#sk-container-id-3 label.sk-toggleable__label-arrow:hover:before {color: black;}#sk-container-id-3 div.sk-estimator:hover label.sk-toggleable__label-arrow:before {color: black;}#sk-container-id-3 div.sk-toggleable__content {max-height: 0;max-width: 0;overflow: hidden;text-align: left;background-color: #f0f8ff;}#sk-container-id-3 div.sk-toggleable__content pre {margin: 0.2em;color: black;border-radius: 0.25em;background-color: #f0f8ff;}#sk-container-id-3 input.sk-toggleable__control:checked~div.sk-toggleable__content {max-height: 200px;max-width: 100%;overflow: auto;}#sk-container-id-3 input.sk-toggleable__control:checked~label.sk-toggleable__label-arrow:before {content: \"▾\";}#sk-container-id-3 div.sk-estimator input.sk-toggleable__control:checked~label.sk-toggleable__label {background-color: #d4ebff;}#sk-container-id-3 div.sk-label input.sk-toggleable__control:checked~label.sk-toggleable__label {background-color: #d4ebff;}#sk-container-id-3 input.sk-hidden--visually {border: 0;clip: rect(1px 1px 1px 1px);clip: rect(1px, 1px, 1px, 1px);height: 1px;margin: -1px;overflow: hidden;padding: 0;position: absolute;width: 1px;}#sk-container-id-3 div.sk-estimator {font-family: monospace;background-color: #f0f8ff;border: 1px dotted black;border-radius: 0.25em;box-sizing: border-box;margin-bottom: 0.5em;}#sk-container-id-3 div.sk-estimator:hover {background-color: #d4ebff;}#sk-container-id-3 div.sk-parallel-item::after {content: \"\";width: 100%;border-bottom: 1px solid gray;flex-grow: 1;}#sk-container-id-3 div.sk-label:hover label.sk-toggleable__label {background-color: #d4ebff;}#sk-container-id-3 div.sk-serial::before {content: \"\";position: absolute;border-left: 1px solid gray;box-sizing: border-box;top: 0;bottom: 0;left: 50%;z-index: 0;}#sk-container-id-3 div.sk-serial {display: flex;flex-direction: column;align-items: center;background-color: white;padding-right: 0.2em;padding-left: 0.2em;position: relative;}#sk-container-id-3 div.sk-item {position: relative;z-index: 1;}#sk-container-id-3 div.sk-parallel {display: flex;align-items: stretch;justify-content: center;background-color: white;position: relative;}#sk-container-id-3 div.sk-item::before, #sk-container-id-3 div.sk-parallel-item::before {content: \"\";position: absolute;border-left: 1px solid gray;box-sizing: border-box;top: 0;bottom: 0;left: 50%;z-index: -1;}#sk-container-id-3 div.sk-parallel-item {display: flex;flex-direction: column;z-index: 1;position: relative;background-color: white;}#sk-container-id-3 div.sk-parallel-item:first-child::after {align-self: flex-end;width: 50%;}#sk-container-id-3 div.sk-parallel-item:last-child::after {align-self: flex-start;width: 50%;}#sk-container-id-3 div.sk-parallel-item:only-child::after {width: 0;}#sk-container-id-3 div.sk-dashed-wrapped {border: 1px dashed gray;margin: 0 0.4em 0.5em 0.4em;box-sizing: border-box;padding-bottom: 0.4em;background-color: white;}#sk-container-id-3 div.sk-label label {font-family: monospace;font-weight: bold;display: inline-block;line-height: 1.2em;}#sk-container-id-3 div.sk-label-container {text-align: center;}#sk-container-id-3 div.sk-container {/* jupyter's `normalize.less` sets `[hidden] { display: none; }` but bootstrap.min.css set `[hidden] { display: none !important; }` so we also need the `!important` here to be able to override the default hidden behavior on the sphinx rendered scikit-learn.org. See: https://github.com/scikit-learn/scikit-learn/issues/21755 */display: inline-block !important;position: relative;}#sk-container-id-3 div.sk-text-repr-fallback {display: none;}</style><div id=\"sk-container-id-3\" class=\"sk-top-container\"><div class=\"sk-text-repr-fallback\"><pre>Pipeline(steps=[(&#x27;prep&#x27;,\n",
              "                 ColumnTransformer(transformers=[(&#x27;num&#x27;, MinMaxScaler(),\n",
              "                                                  [&#x27;account_length&#x27;,\n",
              "                                                   &#x27;number_vmail_messages&#x27;,\n",
              "                                                   &#x27;total_day_minutes&#x27;,\n",
              "                                                   &#x27;total_day_calls&#x27;,\n",
              "                                                   &#x27;total_day_charge&#x27;,\n",
              "                                                   &#x27;total_eve_minutes&#x27;,\n",
              "                                                   &#x27;total_eve_calls&#x27;,\n",
              "                                                   &#x27;total_eve_charge&#x27;,\n",
              "                                                   &#x27;total_night_minutes&#x27;,\n",
              "                                                   &#x27;total_night_calls&#x27;,\n",
              "                                                   &#x27;total_night_charge&#x27;,\n",
              "                                                   &#x27;total_intl_minutes&#x27;,\n",
              "                                                   &#x27;total_intl_calls&#x27;,\n",
              "                                                   &#x27;total_intl_charge&#x27;,\n",
              "                                                   &#x27;number_customer_service_calls&#x27;]),\n",
              "                                                 (&#x27;cat&#x27;, OneHotEncoder(),\n",
              "                                                  [&#x27;state&#x27;, &#x27;area_code&#x27;,\n",
              "                                                   &#x27;international_plan&#x27;,\n",
              "                                                   &#x27;voice_mail_plan&#x27;])])),\n",
              "                (&#x27;smt&#x27;,\n",
              "                 SMOTE(random_state=42, sampling_strategy=&#x27;not majority&#x27;)),\n",
              "                (&#x27;algo&#x27;, RandomForestClassifier(random_state=42))])</pre><b>In a Jupyter environment, please rerun this cell to show the HTML representation or trust the notebook. <br />On GitHub, the HTML representation is unable to render, please try loading this page with nbviewer.org.</b></div><div class=\"sk-container\" hidden><div class=\"sk-item sk-dashed-wrapped\"><div class=\"sk-label-container\"><div class=\"sk-label sk-toggleable\"><input class=\"sk-toggleable__control sk-hidden--visually\" id=\"sk-estimator-id-17\" type=\"checkbox\" ><label for=\"sk-estimator-id-17\" class=\"sk-toggleable__label sk-toggleable__label-arrow\">Pipeline</label><div class=\"sk-toggleable__content\"><pre>Pipeline(steps=[(&#x27;prep&#x27;,\n",
              "                 ColumnTransformer(transformers=[(&#x27;num&#x27;, MinMaxScaler(),\n",
              "                                                  [&#x27;account_length&#x27;,\n",
              "                                                   &#x27;number_vmail_messages&#x27;,\n",
              "                                                   &#x27;total_day_minutes&#x27;,\n",
              "                                                   &#x27;total_day_calls&#x27;,\n",
              "                                                   &#x27;total_day_charge&#x27;,\n",
              "                                                   &#x27;total_eve_minutes&#x27;,\n",
              "                                                   &#x27;total_eve_calls&#x27;,\n",
              "                                                   &#x27;total_eve_charge&#x27;,\n",
              "                                                   &#x27;total_night_minutes&#x27;,\n",
              "                                                   &#x27;total_night_calls&#x27;,\n",
              "                                                   &#x27;total_night_charge&#x27;,\n",
              "                                                   &#x27;total_intl_minutes&#x27;,\n",
              "                                                   &#x27;total_intl_calls&#x27;,\n",
              "                                                   &#x27;total_intl_charge&#x27;,\n",
              "                                                   &#x27;number_customer_service_calls&#x27;]),\n",
              "                                                 (&#x27;cat&#x27;, OneHotEncoder(),\n",
              "                                                  [&#x27;state&#x27;, &#x27;area_code&#x27;,\n",
              "                                                   &#x27;international_plan&#x27;,\n",
              "                                                   &#x27;voice_mail_plan&#x27;])])),\n",
              "                (&#x27;smt&#x27;,\n",
              "                 SMOTE(random_state=42, sampling_strategy=&#x27;not majority&#x27;)),\n",
              "                (&#x27;algo&#x27;, RandomForestClassifier(random_state=42))])</pre></div></div></div><div class=\"sk-serial\"><div class=\"sk-item sk-dashed-wrapped\"><div class=\"sk-label-container\"><div class=\"sk-label sk-toggleable\"><input class=\"sk-toggleable__control sk-hidden--visually\" id=\"sk-estimator-id-18\" type=\"checkbox\" ><label for=\"sk-estimator-id-18\" class=\"sk-toggleable__label sk-toggleable__label-arrow\">prep: ColumnTransformer</label><div class=\"sk-toggleable__content\"><pre>ColumnTransformer(transformers=[(&#x27;num&#x27;, MinMaxScaler(),\n",
              "                                 [&#x27;account_length&#x27;, &#x27;number_vmail_messages&#x27;,\n",
              "                                  &#x27;total_day_minutes&#x27;, &#x27;total_day_calls&#x27;,\n",
              "                                  &#x27;total_day_charge&#x27;, &#x27;total_eve_minutes&#x27;,\n",
              "                                  &#x27;total_eve_calls&#x27;, &#x27;total_eve_charge&#x27;,\n",
              "                                  &#x27;total_night_minutes&#x27;, &#x27;total_night_calls&#x27;,\n",
              "                                  &#x27;total_night_charge&#x27;, &#x27;total_intl_minutes&#x27;,\n",
              "                                  &#x27;total_intl_calls&#x27;, &#x27;total_intl_charge&#x27;,\n",
              "                                  &#x27;number_customer_service_calls&#x27;]),\n",
              "                                (&#x27;cat&#x27;, OneHotEncoder(),\n",
              "                                 [&#x27;state&#x27;, &#x27;area_code&#x27;, &#x27;international_plan&#x27;,\n",
              "                                  &#x27;voice_mail_plan&#x27;])])</pre></div></div></div><div class=\"sk-parallel\"><div class=\"sk-parallel-item\"><div class=\"sk-item\"><div class=\"sk-label-container\"><div class=\"sk-label sk-toggleable\"><input class=\"sk-toggleable__control sk-hidden--visually\" id=\"sk-estimator-id-19\" type=\"checkbox\" ><label for=\"sk-estimator-id-19\" class=\"sk-toggleable__label sk-toggleable__label-arrow\">num</label><div class=\"sk-toggleable__content\"><pre>[&#x27;account_length&#x27;, &#x27;number_vmail_messages&#x27;, &#x27;total_day_minutes&#x27;, &#x27;total_day_calls&#x27;, &#x27;total_day_charge&#x27;, &#x27;total_eve_minutes&#x27;, &#x27;total_eve_calls&#x27;, &#x27;total_eve_charge&#x27;, &#x27;total_night_minutes&#x27;, &#x27;total_night_calls&#x27;, &#x27;total_night_charge&#x27;, &#x27;total_intl_minutes&#x27;, &#x27;total_intl_calls&#x27;, &#x27;total_intl_charge&#x27;, &#x27;number_customer_service_calls&#x27;]</pre></div></div></div><div class=\"sk-serial\"><div class=\"sk-item\"><div class=\"sk-estimator sk-toggleable\"><input class=\"sk-toggleable__control sk-hidden--visually\" id=\"sk-estimator-id-20\" type=\"checkbox\" ><label for=\"sk-estimator-id-20\" class=\"sk-toggleable__label sk-toggleable__label-arrow\">MinMaxScaler</label><div class=\"sk-toggleable__content\"><pre>MinMaxScaler()</pre></div></div></div></div></div></div><div class=\"sk-parallel-item\"><div class=\"sk-item\"><div class=\"sk-label-container\"><div class=\"sk-label sk-toggleable\"><input class=\"sk-toggleable__control sk-hidden--visually\" id=\"sk-estimator-id-21\" type=\"checkbox\" ><label for=\"sk-estimator-id-21\" class=\"sk-toggleable__label sk-toggleable__label-arrow\">cat</label><div class=\"sk-toggleable__content\"><pre>[&#x27;state&#x27;, &#x27;area_code&#x27;, &#x27;international_plan&#x27;, &#x27;voice_mail_plan&#x27;]</pre></div></div></div><div class=\"sk-serial\"><div class=\"sk-item\"><div class=\"sk-estimator sk-toggleable\"><input class=\"sk-toggleable__control sk-hidden--visually\" id=\"sk-estimator-id-22\" type=\"checkbox\" ><label for=\"sk-estimator-id-22\" class=\"sk-toggleable__label sk-toggleable__label-arrow\">OneHotEncoder</label><div class=\"sk-toggleable__content\"><pre>OneHotEncoder()</pre></div></div></div></div></div></div></div></div><div class=\"sk-item\"><div class=\"sk-estimator sk-toggleable\"><input class=\"sk-toggleable__control sk-hidden--visually\" id=\"sk-estimator-id-23\" type=\"checkbox\" ><label for=\"sk-estimator-id-23\" class=\"sk-toggleable__label sk-toggleable__label-arrow\">SMOTE</label><div class=\"sk-toggleable__content\"><pre>SMOTE(random_state=42, sampling_strategy=&#x27;not majority&#x27;)</pre></div></div></div><div class=\"sk-item\"><div class=\"sk-estimator sk-toggleable\"><input class=\"sk-toggleable__control sk-hidden--visually\" id=\"sk-estimator-id-24\" type=\"checkbox\" ><label for=\"sk-estimator-id-24\" class=\"sk-toggleable__label sk-toggleable__label-arrow\">RandomForestClassifier</label><div class=\"sk-toggleable__content\"><pre>RandomForestClassifier(random_state=42)</pre></div></div></div></div></div></div></div>"
            ],
            "text/plain": [
              "Pipeline(steps=[('prep',\n",
              "                 ColumnTransformer(transformers=[('num', MinMaxScaler(),\n",
              "                                                  ['account_length',\n",
              "                                                   'number_vmail_messages',\n",
              "                                                   'total_day_minutes',\n",
              "                                                   'total_day_calls',\n",
              "                                                   'total_day_charge',\n",
              "                                                   'total_eve_minutes',\n",
              "                                                   'total_eve_calls',\n",
              "                                                   'total_eve_charge',\n",
              "                                                   'total_night_minutes',\n",
              "                                                   'total_night_calls',\n",
              "                                                   'total_night_charge',\n",
              "                                                   'total_intl_minutes',\n",
              "                                                   'total_intl_calls',\n",
              "                                                   'total_intl_charge',\n",
              "                                                   'number_customer_service_calls']),\n",
              "                                                 ('cat', OneHotEncoder(),\n",
              "                                                  ['state', 'area_code',\n",
              "                                                   'international_plan',\n",
              "                                                   'voice_mail_plan'])])),\n",
              "                ('smt',\n",
              "                 SMOTE(random_state=42, sampling_strategy='not majority')),\n",
              "                ('algo', RandomForestClassifier(random_state=42))])"
            ]
          },
          "execution_count": 34,
          "metadata": {},
          "output_type": "execute_result"
        }
      ],
      "source": [
        "pipeRF.fit(X_train, y_train)"
      ]
    },
    {
      "cell_type": "code",
      "execution_count": 35,
      "metadata": {
        "colab": {
          "base_uri": "https://localhost:8080/"
        },
        "id": "K_J9SVJmawd3",
        "outputId": "40f9cd1d-d1ef-4c62-b660-cf3edfee48ad"
      },
      "outputs": [
        {
          "data": {
            "text/plain": [
              "0.9427450980392157"
            ]
          },
          "execution_count": 35,
          "metadata": {},
          "output_type": "execute_result"
        }
      ],
      "source": [
        "pipeRF.score(X_test, y_test)"
      ]
    },
    {
      "cell_type": "code",
      "execution_count": 36,
      "metadata": {
        "id": "xqPyjXGPa7V5"
      },
      "outputs": [],
      "source": [
        "y_pred = pipeRF.predict(X_test)"
      ]
    },
    {
      "cell_type": "code",
      "execution_count": 37,
      "metadata": {
        "id": "aqqj3m21cTwb"
      },
      "outputs": [],
      "source": [
        "conf_matrix = confusion_matrix(y_true = y_test, y_pred = y_pred)"
      ]
    },
    {
      "cell_type": "code",
      "execution_count": 38,
      "metadata": {
        "colab": {
          "base_uri": "https://localhost:8080/",
          "height": 368
        },
        "id": "YpdRkGuYcU0M",
        "outputId": "eb6b4f3e-8376-4b1a-affb-37791985b2e8"
      },
      "outputs": [
        {
          "data": {
            "image/png": "[encoded data removed]",
            "text/plain": [
              "<Figure size 500x400 with 2 Axes>"
            ]
          },
          "metadata": {},
          "output_type": "display_data"
        }
      ],
      "source": [
        "plt.figure(figsize=(5, 4))\n",
        "sns.heatmap(conf_matrix, annot=True, fmt=\"g\")\n",
        "plt.show()"
      ]
    },
    {
      "cell_type": "markdown",
      "metadata": {
        "id": "UCwWBTBM7umt"
      },
      "source": [
        "## KNN"
      ]
    },
    {
      "cell_type": "code",
      "execution_count": 39,
      "metadata": {
        "id": "4B7sza2j7yOX"
      },
      "outputs": [],
      "source": [
        "pipeKNN = imbPipeline([\n",
        "    (\"prep\", preprocessor),\n",
        "    (\"smt\",smt),\n",
        "    (\"algo\", KNeighborsClassifier(n_neighbors=3))\n",
        "])"
      ]
    },
    {
      "cell_type": "code",
      "execution_count": 40,
      "metadata": {
        "colab": {
          "base_uri": "https://localhost:8080/",
          "height": 274
        },
        "id": "sxiXmpzq8Ygx",
        "outputId": "250aa2b0-ec7d-4a7c-8646-10d77cd1a031"
      },
      "outputs": [
        {
          "data": {
            "text/html": [
              "<style>#sk-container-id-4 {color: black;background-color: white;}#sk-container-id-4 pre{padding: 0;}#sk-container-id-4 div.sk-toggleable {background-color: white;}#sk-container-id-4 label.sk-toggleable__label {cursor: pointer;display: block;width: 100%;margin-bottom: 0;padding: 0.3em;box-sizing: border-box;text-align: center;}#sk-container-id-4 label.sk-toggleable__label-arrow:before {content: \"▸\";float: left;margin-right: 0.25em;color: #696969;}#sk-container-id-4 label.sk-toggleable__label-arrow:hover:before {color: black;}#sk-container-id-4 div.sk-estimator:hover label.sk-toggleable__label-arrow:before {color: black;}#sk-container-id-4 div.sk-toggleable__content {max-height: 0;max-width: 0;overflow: hidden;text-align: left;background-color: #f0f8ff;}#sk-container-id-4 div.sk-toggleable__content pre {margin: 0.2em;color: black;border-radius: 0.25em;background-color: #f0f8ff;}#sk-container-id-4 input.sk-toggleable__control:checked~div.sk-toggleable__content {max-height: 200px;max-width: 100%;overflow: auto;}#sk-container-id-4 input.sk-toggleable__control:checked~label.sk-toggleable__label-arrow:before {content: \"▾\";}#sk-container-id-4 div.sk-estimator input.sk-toggleable__control:checked~label.sk-toggleable__label {background-color: #d4ebff;}#sk-container-id-4 div.sk-label input.sk-toggleable__control:checked~label.sk-toggleable__label {background-color: #d4ebff;}#sk-container-id-4 input.sk-hidden--visually {border: 0;clip: rect(1px 1px 1px 1px);clip: rect(1px, 1px, 1px, 1px);height: 1px;margin: -1px;overflow: hidden;padding: 0;position: absolute;width: 1px;}#sk-container-id-4 div.sk-estimator {font-family: monospace;background-color: #f0f8ff;border: 1px dotted black;border-radius: 0.25em;box-sizing: border-box;margin-bottom: 0.5em;}#sk-container-id-4 div.sk-estimator:hover {background-color: #d4ebff;}#sk-container-id-4 div.sk-parallel-item::after {content: \"\";width: 100%;border-bottom: 1px solid gray;flex-grow: 1;}#sk-container-id-4 div.sk-label:hover label.sk-toggleable__label {background-color: #d4ebff;}#sk-container-id-4 div.sk-serial::before {content: \"\";position: absolute;border-left: 1px solid gray;box-sizing: border-box;top: 0;bottom: 0;left: 50%;z-index: 0;}#sk-container-id-4 div.sk-serial {display: flex;flex-direction: column;align-items: center;background-color: white;padding-right: 0.2em;padding-left: 0.2em;position: relative;}#sk-container-id-4 div.sk-item {position: relative;z-index: 1;}#sk-container-id-4 div.sk-parallel {display: flex;align-items: stretch;justify-content: center;background-color: white;position: relative;}#sk-container-id-4 div.sk-item::before, #sk-container-id-4 div.sk-parallel-item::before {content: \"\";position: absolute;border-left: 1px solid gray;box-sizing: border-box;top: 0;bottom: 0;left: 50%;z-index: -1;}#sk-container-id-4 div.sk-parallel-item {display: flex;flex-direction: column;z-index: 1;position: relative;background-color: white;}#sk-container-id-4 div.sk-parallel-item:first-child::after {align-self: flex-end;width: 50%;}#sk-container-id-4 div.sk-parallel-item:last-child::after {align-self: flex-start;width: 50%;}#sk-container-id-4 div.sk-parallel-item:only-child::after {width: 0;}#sk-container-id-4 div.sk-dashed-wrapped {border: 1px dashed gray;margin: 0 0.4em 0.5em 0.4em;box-sizing: border-box;padding-bottom: 0.4em;background-color: white;}#sk-container-id-4 div.sk-label label {font-family: monospace;font-weight: bold;display: inline-block;line-height: 1.2em;}#sk-container-id-4 div.sk-label-container {text-align: center;}#sk-container-id-4 div.sk-container {/* jupyter's `normalize.less` sets `[hidden] { display: none; }` but bootstrap.min.css set `[hidden] { display: none !important; }` so we also need the `!important` here to be able to override the default hidden behavior on the sphinx rendered scikit-learn.org. See: https://github.com/scikit-learn/scikit-learn/issues/21755 */display: inline-block !important;position: relative;}#sk-container-id-4 div.sk-text-repr-fallback {display: none;}</style><div id=\"sk-container-id-4\" class=\"sk-top-container\"><div class=\"sk-text-repr-fallback\"><pre>Pipeline(steps=[(&#x27;prep&#x27;,\n",
              "                 ColumnTransformer(transformers=[(&#x27;num&#x27;, MinMaxScaler(),\n",
              "                                                  [&#x27;account_length&#x27;,\n",
              "                                                   &#x27;number_vmail_messages&#x27;,\n",
              "                                                   &#x27;total_day_minutes&#x27;,\n",
              "                                                   &#x27;total_day_calls&#x27;,\n",
              "                                                   &#x27;total_day_charge&#x27;,\n",
              "                                                   &#x27;total_eve_minutes&#x27;,\n",
              "                                                   &#x27;total_eve_calls&#x27;,\n",
              "                                                   &#x27;total_eve_charge&#x27;,\n",
              "                                                   &#x27;total_night_minutes&#x27;,\n",
              "                                                   &#x27;total_night_calls&#x27;,\n",
              "                                                   &#x27;total_night_charge&#x27;,\n",
              "                                                   &#x27;total_intl_minutes&#x27;,\n",
              "                                                   &#x27;total_intl_calls&#x27;,\n",
              "                                                   &#x27;total_intl_charge&#x27;,\n",
              "                                                   &#x27;number_customer_service_calls&#x27;]),\n",
              "                                                 (&#x27;cat&#x27;, OneHotEncoder(),\n",
              "                                                  [&#x27;state&#x27;, &#x27;area_code&#x27;,\n",
              "                                                   &#x27;international_plan&#x27;,\n",
              "                                                   &#x27;voice_mail_plan&#x27;])])),\n",
              "                (&#x27;smt&#x27;,\n",
              "                 SMOTE(random_state=42, sampling_strategy=&#x27;not majority&#x27;)),\n",
              "                (&#x27;algo&#x27;, KNeighborsClassifier(n_neighbors=3))])</pre><b>In a Jupyter environment, please rerun this cell to show the HTML representation or trust the notebook. <br />On GitHub, the HTML representation is unable to render, please try loading this page with nbviewer.org.</b></div><div class=\"sk-container\" hidden><div class=\"sk-item sk-dashed-wrapped\"><div class=\"sk-label-container\"><div class=\"sk-label sk-toggleable\"><input class=\"sk-toggleable__control sk-hidden--visually\" id=\"sk-estimator-id-25\" type=\"checkbox\" ><label for=\"sk-estimator-id-25\" class=\"sk-toggleable__label sk-toggleable__label-arrow\">Pipeline</label><div class=\"sk-toggleable__content\"><pre>Pipeline(steps=[(&#x27;prep&#x27;,\n",
              "                 ColumnTransformer(transformers=[(&#x27;num&#x27;, MinMaxScaler(),\n",
              "                                                  [&#x27;account_length&#x27;,\n",
              "                                                   &#x27;number_vmail_messages&#x27;,\n",
              "                                                   &#x27;total_day_minutes&#x27;,\n",
              "                                                   &#x27;total_day_calls&#x27;,\n",
              "                                                   &#x27;total_day_charge&#x27;,\n",
              "                                                   &#x27;total_eve_minutes&#x27;,\n",
              "                                                   &#x27;total_eve_calls&#x27;,\n",
              "                                                   &#x27;total_eve_charge&#x27;,\n",
              "                                                   &#x27;total_night_minutes&#x27;,\n",
              "                                                   &#x27;total_night_calls&#x27;,\n",
              "                                                   &#x27;total_night_charge&#x27;,\n",
              "                                                   &#x27;total_intl_minutes&#x27;,\n",
              "                                                   &#x27;total_intl_calls&#x27;,\n",
              "                                                   &#x27;total_intl_charge&#x27;,\n",
              "                                                   &#x27;number_customer_service_calls&#x27;]),\n",
              "                                                 (&#x27;cat&#x27;, OneHotEncoder(),\n",
              "                                                  [&#x27;state&#x27;, &#x27;area_code&#x27;,\n",
              "                                                   &#x27;international_plan&#x27;,\n",
              "                                                   &#x27;voice_mail_plan&#x27;])])),\n",
              "                (&#x27;smt&#x27;,\n",
              "                 SMOTE(random_state=42, sampling_strategy=&#x27;not majority&#x27;)),\n",
              "                (&#x27;algo&#x27;, KNeighborsClassifier(n_neighbors=3))])</pre></div></div></div><div class=\"sk-serial\"><div class=\"sk-item sk-dashed-wrapped\"><div class=\"sk-label-container\"><div class=\"sk-label sk-toggleable\"><input class=\"sk-toggleable__control sk-hidden--visually\" id=\"sk-estimator-id-26\" type=\"checkbox\" ><label for=\"sk-estimator-id-26\" class=\"sk-toggleable__label sk-toggleable__label-arrow\">prep: ColumnTransformer</label><div class=\"sk-toggleable__content\"><pre>ColumnTransformer(transformers=[(&#x27;num&#x27;, MinMaxScaler(),\n",
              "                                 [&#x27;account_length&#x27;, &#x27;number_vmail_messages&#x27;,\n",
              "                                  &#x27;total_day_minutes&#x27;, &#x27;total_day_calls&#x27;,\n",
              "                                  &#x27;total_day_charge&#x27;, &#x27;total_eve_minutes&#x27;,\n",
              "                                  &#x27;total_eve_calls&#x27;, &#x27;total_eve_charge&#x27;,\n",
              "                                  &#x27;total_night_minutes&#x27;, &#x27;total_night_calls&#x27;,\n",
              "                                  &#x27;total_night_charge&#x27;, &#x27;total_intl_minutes&#x27;,\n",
              "                                  &#x27;total_intl_calls&#x27;, &#x27;total_intl_charge&#x27;,\n",
              "                                  &#x27;number_customer_service_calls&#x27;]),\n",
              "                                (&#x27;cat&#x27;, OneHotEncoder(),\n",
              "                                 [&#x27;state&#x27;, &#x27;area_code&#x27;, &#x27;international_plan&#x27;,\n",
              "                                  &#x27;voice_mail_plan&#x27;])])</pre></div></div></div><div class=\"sk-parallel\"><div class=\"sk-parallel-item\"><div class=\"sk-item\"><div class=\"sk-label-container\"><div class=\"sk-label sk-toggleable\"><input class=\"sk-toggleable__control sk-hidden--visually\" id=\"sk-estimator-id-27\" type=\"checkbox\" ><label for=\"sk-estimator-id-27\" class=\"sk-toggleable__label sk-toggleable__label-arrow\">num</label><div class=\"sk-toggleable__content\"><pre>[&#x27;account_length&#x27;, &#x27;number_vmail_messages&#x27;, &#x27;total_day_minutes&#x27;, &#x27;total_day_calls&#x27;, &#x27;total_day_charge&#x27;, &#x27;total_eve_minutes&#x27;, &#x27;total_eve_calls&#x27;, &#x27;total_eve_charge&#x27;, &#x27;total_night_minutes&#x27;, &#x27;total_night_calls&#x27;, &#x27;total_night_charge&#x27;, &#x27;total_intl_minutes&#x27;, &#x27;total_intl_calls&#x27;, &#x27;total_intl_charge&#x27;, &#x27;number_customer_service_calls&#x27;]</pre></div></div></div><div class=\"sk-serial\"><div class=\"sk-item\"><div class=\"sk-estimator sk-toggleable\"><input class=\"sk-toggleable__control sk-hidden--visually\" id=\"sk-estimator-id-28\" type=\"checkbox\" ><label for=\"sk-estimator-id-28\" class=\"sk-toggleable__label sk-toggleable__label-arrow\">MinMaxScaler</label><div class=\"sk-toggleable__content\"><pre>MinMaxScaler()</pre></div></div></div></div></div></div><div class=\"sk-parallel-item\"><div class=\"sk-item\"><div class=\"sk-label-container\"><div class=\"sk-label sk-toggleable\"><input class=\"sk-toggleable__control sk-hidden--visually\" id=\"sk-estimator-id-29\" type=\"checkbox\" ><label for=\"sk-estimator-id-29\" class=\"sk-toggleable__label sk-toggleable__label-arrow\">cat</label><div class=\"sk-toggleable__content\"><pre>[&#x27;state&#x27;, &#x27;area_code&#x27;, &#x27;international_plan&#x27;, &#x27;voice_mail_plan&#x27;]</pre></div></div></div><div class=\"sk-serial\"><div class=\"sk-item\"><div class=\"sk-estimator sk-toggleable\"><input class=\"sk-toggleable__control sk-hidden--visually\" id=\"sk-estimator-id-30\" type=\"checkbox\" ><label for=\"sk-estimator-id-30\" class=\"sk-toggleable__label sk-toggleable__label-arrow\">OneHotEncoder</label><div class=\"sk-toggleable__content\"><pre>OneHotEncoder()</pre></div></div></div></div></div></div></div></div><div class=\"sk-item\"><div class=\"sk-estimator sk-toggleable\"><input class=\"sk-toggleable__control sk-hidden--visually\" id=\"sk-estimator-id-31\" type=\"checkbox\" ><label for=\"sk-estimator-id-31\" class=\"sk-toggleable__label sk-toggleable__label-arrow\">SMOTE</label><div class=\"sk-toggleable__content\"><pre>SMOTE(random_state=42, sampling_strategy=&#x27;not majority&#x27;)</pre></div></div></div><div class=\"sk-item\"><div class=\"sk-estimator sk-toggleable\"><input class=\"sk-toggleable__control sk-hidden--visually\" id=\"sk-estimator-id-32\" type=\"checkbox\" ><label for=\"sk-estimator-id-32\" class=\"sk-toggleable__label sk-toggleable__label-arrow\">KNeighborsClassifier</label><div class=\"sk-toggleable__content\"><pre>KNeighborsClassifier(n_neighbors=3)</pre></div></div></div></div></div></div></div>"
            ],
            "text/plain": [
              "Pipeline(steps=[('prep',\n",
              "                 ColumnTransformer(transformers=[('num', MinMaxScaler(),\n",
              "                                                  ['account_length',\n",
              "                                                   'number_vmail_messages',\n",
              "                                                   'total_day_minutes',\n",
              "                                                   'total_day_calls',\n",
              "                                                   'total_day_charge',\n",
              "                                                   'total_eve_minutes',\n",
              "                                                   'total_eve_calls',\n",
              "                                                   'total_eve_charge',\n",
              "                                                   'total_night_minutes',\n",
              "                                                   'total_night_calls',\n",
              "                                                   'total_night_charge',\n",
              "                                                   'total_intl_minutes',\n",
              "                                                   'total_intl_calls',\n",
              "                                                   'total_intl_charge',\n",
              "                                                   'number_customer_service_calls']),\n",
              "                                                 ('cat', OneHotEncoder(),\n",
              "                                                  ['state', 'area_code',\n",
              "                                                   'international_plan',\n",
              "                                                   'voice_mail_plan'])])),\n",
              "                ('smt',\n",
              "                 SMOTE(random_state=42, sampling_strategy='not majority')),\n",
              "                ('algo', KNeighborsClassifier(n_neighbors=3))])"
            ]
          },
          "execution_count": 40,
          "metadata": {},
          "output_type": "execute_result"
        }
      ],
      "source": [
        "pipeKNN.fit(X_train, y_train)"
      ]
    },
    {
      "cell_type": "code",
      "execution_count": 41,
      "metadata": {
        "colab": {
          "base_uri": "https://localhost:8080/"
        },
        "id": "-rjp3GP-8bKr",
        "outputId": "efeb19d0-813c-4ab2-d9a6-c47956496804"
      },
      "outputs": [
        {
          "data": {
            "text/plain": [
              "0.7466666666666667"
            ]
          },
          "execution_count": 41,
          "metadata": {},
          "output_type": "execute_result"
        }
      ],
      "source": [
        "pipeKNN.score(X_test, y_test)"
      ]
    },
    {
      "cell_type": "code",
      "execution_count": 42,
      "metadata": {
        "id": "uQeVO7XLa8P8"
      },
      "outputs": [],
      "source": [
        "y_pred = pipeKNN.predict(X_test)"
      ]
    },
    {
      "cell_type": "code",
      "execution_count": 43,
      "metadata": {
        "id": "0hYCc3zOcZjP"
      },
      "outputs": [],
      "source": [
        "conf_matrix = confusion_matrix(y_true = y_test, y_pred = y_pred)"
      ]
    },
    {
      "cell_type": "code",
      "execution_count": 44,
      "metadata": {
        "colab": {
          "base_uri": "https://localhost:8080/",
          "height": 368
        },
        "id": "lItL1WDIcaXV",
        "outputId": "b4c87bfd-2669-49c0-e2b7-a2191896a21a"
      },
      "outputs": [
        {
          "data": {
            "image/png": "[encoded data removed]",
            "text/plain": [
              "<Figure size 500x400 with 2 Axes>"
            ]
          },
          "metadata": {},
          "output_type": "display_data"
        }
      ],
      "source": [
        "plt.figure(figsize=(5, 4))\n",
        "sns.heatmap(conf_matrix, annot=True, fmt=\"g\")\n",
        "plt.show()"
      ]
    },
    {
      "cell_type": "markdown",
      "metadata": {
        "id": "1cq3FQ8d8p_B"
      },
      "source": [
        "## Gradient Boosting\n"
      ]
    },
    {
      "cell_type": "code",
      "execution_count": 45,
      "metadata": {
        "id": "tyhcIAV68xTu"
      },
      "outputs": [],
      "source": [
        "pipeGBM = imbPipeline([\n",
        "    (\"prep\", preprocessor),\n",
        "    (\"smt\",smt),\n",
        "    (\"algo\", GradientBoostingClassifier(n_estimators=100, learning_rate=1.0,\n",
        "                                    max_depth=5, random_state=0))\n",
        "])"
      ]
    },
    {
      "cell_type": "code",
      "execution_count": 46,
      "metadata": {
        "colab": {
          "base_uri": "https://localhost:8080/",
          "height": 274
        },
        "id": "3f_OvIuV9HDU",
        "outputId": "f33793de-d647-4ba3-eb3f-9460f706af27"
      },
      "outputs": [
        {
          "data": {
            "text/html": [
              "<style>#sk-container-id-5 {color: black;background-color: white;}#sk-container-id-5 pre{padding: 0;}#sk-container-id-5 div.sk-toggleable {background-color: white;}#sk-container-id-5 label.sk-toggleable__label {cursor: pointer;display: block;width: 100%;margin-bottom: 0;padding: 0.3em;box-sizing: border-box;text-align: center;}#sk-container-id-5 label.sk-toggleable__label-arrow:before {content: \"▸\";float: left;margin-right: 0.25em;color: #696969;}#sk-container-id-5 label.sk-toggleable__label-arrow:hover:before {color: black;}#sk-container-id-5 div.sk-estimator:hover label.sk-toggleable__label-arrow:before {color: black;}#sk-container-id-5 div.sk-toggleable__content {max-height: 0;max-width: 0;overflow: hidden;text-align: left;background-color: #f0f8ff;}#sk-container-id-5 div.sk-toggleable__content pre {margin: 0.2em;color: black;border-radius: 0.25em;background-color: #f0f8ff;}#sk-container-id-5 input.sk-toggleable__control:checked~div.sk-toggleable__content {max-height: 200px;max-width: 100%;overflow: auto;}#sk-container-id-5 input.sk-toggleable__control:checked~label.sk-toggleable__label-arrow:before {content: \"▾\";}#sk-container-id-5 div.sk-estimator input.sk-toggleable__control:checked~label.sk-toggleable__label {background-color: #d4ebff;}#sk-container-id-5 div.sk-label input.sk-toggleable__control:checked~label.sk-toggleable__label {background-color: #d4ebff;}#sk-container-id-5 input.sk-hidden--visually {border: 0;clip: rect(1px 1px 1px 1px);clip: rect(1px, 1px, 1px, 1px);height: 1px;margin: -1px;overflow: hidden;padding: 0;position: absolute;width: 1px;}#sk-container-id-5 div.sk-estimator {font-family: monospace;background-color: #f0f8ff;border: 1px dotted black;border-radius: 0.25em;box-sizing: border-box;margin-bottom: 0.5em;}#sk-container-id-5 div.sk-estimator:hover {background-color: #d4ebff;}#sk-container-id-5 div.sk-parallel-item::after {content: \"\";width: 100%;border-bottom: 1px solid gray;flex-grow: 1;}#sk-container-id-5 div.sk-label:hover label.sk-toggleable__label {background-color: #d4ebff;}#sk-container-id-5 div.sk-serial::before {content: \"\";position: absolute;border-left: 1px solid gray;box-sizing: border-box;top: 0;bottom: 0;left: 50%;z-index: 0;}#sk-container-id-5 div.sk-serial {display: flex;flex-direction: column;align-items: center;background-color: white;padding-right: 0.2em;padding-left: 0.2em;position: relative;}#sk-container-id-5 div.sk-item {position: relative;z-index: 1;}#sk-container-id-5 div.sk-parallel {display: flex;align-items: stretch;justify-content: center;background-color: white;position: relative;}#sk-container-id-5 div.sk-item::before, #sk-container-id-5 div.sk-parallel-item::before {content: \"\";position: absolute;border-left: 1px solid gray;box-sizing: border-box;top: 0;bottom: 0;left: 50%;z-index: -1;}#sk-container-id-5 div.sk-parallel-item {display: flex;flex-direction: column;z-index: 1;position: relative;background-color: white;}#sk-container-id-5 div.sk-parallel-item:first-child::after {align-self: flex-end;width: 50%;}#sk-container-id-5 div.sk-parallel-item:last-child::after {align-self: flex-start;width: 50%;}#sk-container-id-5 div.sk-parallel-item:only-child::after {width: 0;}#sk-container-id-5 div.sk-dashed-wrapped {border: 1px dashed gray;margin: 0 0.4em 0.5em 0.4em;box-sizing: border-box;padding-bottom: 0.4em;background-color: white;}#sk-container-id-5 div.sk-label label {font-family: monospace;font-weight: bold;display: inline-block;line-height: 1.2em;}#sk-container-id-5 div.sk-label-container {text-align: center;}#sk-container-id-5 div.sk-container {/* jupyter's `normalize.less` sets `[hidden] { display: none; }` but bootstrap.min.css set `[hidden] { display: none !important; }` so we also need the `!important` here to be able to override the default hidden behavior on the sphinx rendered scikit-learn.org. See: https://github.com/scikit-learn/scikit-learn/issues/21755 */display: inline-block !important;position: relative;}#sk-container-id-5 div.sk-text-repr-fallback {display: none;}</style><div id=\"sk-container-id-5\" class=\"sk-top-container\"><div class=\"sk-text-repr-fallback\"><pre>Pipeline(steps=[(&#x27;prep&#x27;,\n",
              "                 ColumnTransformer(transformers=[(&#x27;num&#x27;, MinMaxScaler(),\n",
              "                                                  [&#x27;account_length&#x27;,\n",
              "                                                   &#x27;number_vmail_messages&#x27;,\n",
              "                                                   &#x27;total_day_minutes&#x27;,\n",
              "                                                   &#x27;total_day_calls&#x27;,\n",
              "                                                   &#x27;total_day_charge&#x27;,\n",
              "                                                   &#x27;total_eve_minutes&#x27;,\n",
              "                                                   &#x27;total_eve_calls&#x27;,\n",
              "                                                   &#x27;total_eve_charge&#x27;,\n",
              "                                                   &#x27;total_night_minutes&#x27;,\n",
              "                                                   &#x27;total_night_calls&#x27;,\n",
              "                                                   &#x27;total_night_charge&#x27;,\n",
              "                                                   &#x27;total_intl_minutes&#x27;,\n",
              "                                                   &#x27;total_intl_calls&#x27;,\n",
              "                                                   &#x27;total_intl_charge&#x27;,\n",
              "                                                   &#x27;number_customer_service_calls&#x27;]),\n",
              "                                                 (&#x27;cat&#x27;, OneHotEncoder(),\n",
              "                                                  [&#x27;state&#x27;, &#x27;area_code&#x27;,\n",
              "                                                   &#x27;international_plan&#x27;,\n",
              "                                                   &#x27;voice_mail_plan&#x27;])])),\n",
              "                (&#x27;smt&#x27;,\n",
              "                 SMOTE(random_state=42, sampling_strategy=&#x27;not majority&#x27;)),\n",
              "                (&#x27;algo&#x27;,\n",
              "                 GradientBoostingClassifier(learning_rate=1.0, max_depth=5,\n",
              "                                            random_state=0))])</pre><b>In a Jupyter environment, please rerun this cell to show the HTML representation or trust the notebook. <br />On GitHub, the HTML representation is unable to render, please try loading this page with nbviewer.org.</b></div><div class=\"sk-container\" hidden><div class=\"sk-item sk-dashed-wrapped\"><div class=\"sk-label-container\"><div class=\"sk-label sk-toggleable\"><input class=\"sk-toggleable__control sk-hidden--visually\" id=\"sk-estimator-id-33\" type=\"checkbox\" ><label for=\"sk-estimator-id-33\" class=\"sk-toggleable__label sk-toggleable__label-arrow\">Pipeline</label><div class=\"sk-toggleable__content\"><pre>Pipeline(steps=[(&#x27;prep&#x27;,\n",
              "                 ColumnTransformer(transformers=[(&#x27;num&#x27;, MinMaxScaler(),\n",
              "                                                  [&#x27;account_length&#x27;,\n",
              "                                                   &#x27;number_vmail_messages&#x27;,\n",
              "                                                   &#x27;total_day_minutes&#x27;,\n",
              "                                                   &#x27;total_day_calls&#x27;,\n",
              "                                                   &#x27;total_day_charge&#x27;,\n",
              "                                                   &#x27;total_eve_minutes&#x27;,\n",
              "                                                   &#x27;total_eve_calls&#x27;,\n",
              "                                                   &#x27;total_eve_charge&#x27;,\n",
              "                                                   &#x27;total_night_minutes&#x27;,\n",
              "                                                   &#x27;total_night_calls&#x27;,\n",
              "                                                   &#x27;total_night_charge&#x27;,\n",
              "                                                   &#x27;total_intl_minutes&#x27;,\n",
              "                                                   &#x27;total_intl_calls&#x27;,\n",
              "                                                   &#x27;total_intl_charge&#x27;,\n",
              "                                                   &#x27;number_customer_service_calls&#x27;]),\n",
              "                                                 (&#x27;cat&#x27;, OneHotEncoder(),\n",
              "                                                  [&#x27;state&#x27;, &#x27;area_code&#x27;,\n",
              "                                                   &#x27;international_plan&#x27;,\n",
              "                                                   &#x27;voice_mail_plan&#x27;])])),\n",
              "                (&#x27;smt&#x27;,\n",
              "                 SMOTE(random_state=42, sampling_strategy=&#x27;not majority&#x27;)),\n",
              "                (&#x27;algo&#x27;,\n",
              "                 GradientBoostingClassifier(learning_rate=1.0, max_depth=5,\n",
              "                                            random_state=0))])</pre></div></div></div><div class=\"sk-serial\"><div class=\"sk-item sk-dashed-wrapped\"><div class=\"sk-label-container\"><div class=\"sk-label sk-toggleable\"><input class=\"sk-toggleable__control sk-hidden--visually\" id=\"sk-estimator-id-34\" type=\"checkbox\" ><label for=\"sk-estimator-id-34\" class=\"sk-toggleable__label sk-toggleable__label-arrow\">prep: ColumnTransformer</label><div class=\"sk-toggleable__content\"><pre>ColumnTransformer(transformers=[(&#x27;num&#x27;, MinMaxScaler(),\n",
              "                                 [&#x27;account_length&#x27;, &#x27;number_vmail_messages&#x27;,\n",
              "                                  &#x27;total_day_minutes&#x27;, &#x27;total_day_calls&#x27;,\n",
              "                                  &#x27;total_day_charge&#x27;, &#x27;total_eve_minutes&#x27;,\n",
              "                                  &#x27;total_eve_calls&#x27;, &#x27;total_eve_charge&#x27;,\n",
              "                                  &#x27;total_night_minutes&#x27;, &#x27;total_night_calls&#x27;,\n",
              "                                  &#x27;total_night_charge&#x27;, &#x27;total_intl_minutes&#x27;,\n",
              "                                  &#x27;total_intl_calls&#x27;, &#x27;total_intl_charge&#x27;,\n",
              "                                  &#x27;number_customer_service_calls&#x27;]),\n",
              "                                (&#x27;cat&#x27;, OneHotEncoder(),\n",
              "                                 [&#x27;state&#x27;, &#x27;area_code&#x27;, &#x27;international_plan&#x27;,\n",
              "                                  &#x27;voice_mail_plan&#x27;])])</pre></div></div></div><div class=\"sk-parallel\"><div class=\"sk-parallel-item\"><div class=\"sk-item\"><div class=\"sk-label-container\"><div class=\"sk-label sk-toggleable\"><input class=\"sk-toggleable__control sk-hidden--visually\" id=\"sk-estimator-id-35\" type=\"checkbox\" ><label for=\"sk-estimator-id-35\" class=\"sk-toggleable__label sk-toggleable__label-arrow\">num</label><div class=\"sk-toggleable__content\"><pre>[&#x27;account_length&#x27;, &#x27;number_vmail_messages&#x27;, &#x27;total_day_minutes&#x27;, &#x27;total_day_calls&#x27;, &#x27;total_day_charge&#x27;, &#x27;total_eve_minutes&#x27;, &#x27;total_eve_calls&#x27;, &#x27;total_eve_charge&#x27;, &#x27;total_night_minutes&#x27;, &#x27;total_night_calls&#x27;, &#x27;total_night_charge&#x27;, &#x27;total_intl_minutes&#x27;, &#x27;total_intl_calls&#x27;, &#x27;total_intl_charge&#x27;, &#x27;number_customer_service_calls&#x27;]</pre></div></div></div><div class=\"sk-serial\"><div class=\"sk-item\"><div class=\"sk-estimator sk-toggleable\"><input class=\"sk-toggleable__control sk-hidden--visually\" id=\"sk-estimator-id-36\" type=\"checkbox\" ><label for=\"sk-estimator-id-36\" class=\"sk-toggleable__label sk-toggleable__label-arrow\">MinMaxScaler</label><div class=\"sk-toggleable__content\"><pre>MinMaxScaler()</pre></div></div></div></div></div></div><div class=\"sk-parallel-item\"><div class=\"sk-item\"><div class=\"sk-label-container\"><div class=\"sk-label sk-toggleable\"><input class=\"sk-toggleable__control sk-hidden--visually\" id=\"sk-estimator-id-37\" type=\"checkbox\" ><label for=\"sk-estimator-id-37\" class=\"sk-toggleable__label sk-toggleable__label-arrow\">cat</label><div class=\"sk-toggleable__content\"><pre>[&#x27;state&#x27;, &#x27;area_code&#x27;, &#x27;international_plan&#x27;, &#x27;voice_mail_plan&#x27;]</pre></div></div></div><div class=\"sk-serial\"><div class=\"sk-item\"><div class=\"sk-estimator sk-toggleable\"><input class=\"sk-toggleable__control sk-hidden--visually\" id=\"sk-estimator-id-38\" type=\"checkbox\" ><label for=\"sk-estimator-id-38\" class=\"sk-toggleable__label sk-toggleable__label-arrow\">OneHotEncoder</label><div class=\"sk-toggleable__content\"><pre>OneHotEncoder()</pre></div></div></div></div></div></div></div></div><div class=\"sk-item\"><div class=\"sk-estimator sk-toggleable\"><input class=\"sk-toggleable__control sk-hidden--visually\" id=\"sk-estimator-id-39\" type=\"checkbox\" ><label for=\"sk-estimator-id-39\" class=\"sk-toggleable__label sk-toggleable__label-arrow\">SMOTE</label><div class=\"sk-toggleable__content\"><pre>SMOTE(random_state=42, sampling_strategy=&#x27;not majority&#x27;)</pre></div></div></div><div class=\"sk-item\"><div class=\"sk-estimator sk-toggleable\"><input class=\"sk-toggleable__control sk-hidden--visually\" id=\"sk-estimator-id-40\" type=\"checkbox\" ><label for=\"sk-estimator-id-40\" class=\"sk-toggleable__label sk-toggleable__label-arrow\">GradientBoostingClassifier</label><div class=\"sk-toggleable__content\"><pre>GradientBoostingClassifier(learning_rate=1.0, max_depth=5, random_state=0)</pre></div></div></div></div></div></div></div>"
            ],
            "text/plain": [
              "Pipeline(steps=[('prep',\n",
              "                 ColumnTransformer(transformers=[('num', MinMaxScaler(),\n",
              "                                                  ['account_length',\n",
              "                                                   'number_vmail_messages',\n",
              "                                                   'total_day_minutes',\n",
              "                                                   'total_day_calls',\n",
              "                                                   'total_day_charge',\n",
              "                                                   'total_eve_minutes',\n",
              "                                                   'total_eve_calls',\n",
              "                                                   'total_eve_charge',\n",
              "                                                   'total_night_minutes',\n",
              "                                                   'total_night_calls',\n",
              "                                                   'total_night_charge',\n",
              "                                                   'total_intl_minutes',\n",
              "                                                   'total_intl_calls',\n",
              "                                                   'total_intl_charge',\n",
              "                                                   'number_customer_service_calls']),\n",
              "                                                 ('cat', OneHotEncoder(),\n",
              "                                                  ['state', 'area_code',\n",
              "                                                   'international_plan',\n",
              "                                                   'voice_mail_plan'])])),\n",
              "                ('smt',\n",
              "                 SMOTE(random_state=42, sampling_strategy='not majority')),\n",
              "                ('algo',\n",
              "                 GradientBoostingClassifier(learning_rate=1.0, max_depth=5,\n",
              "                                            random_state=0))])"
            ]
          },
          "execution_count": 46,
          "metadata": {},
          "output_type": "execute_result"
        }
      ],
      "source": [
        "pipeGBM.fit(X_train, y_train)"
      ]
    },
    {
      "cell_type": "code",
      "execution_count": 47,
      "metadata": {
        "colab": {
          "base_uri": "https://localhost:8080/"
        },
        "id": "JB4YRg1m9M3W",
        "outputId": "16ad58a4-f5aa-4726-92d7-13f3a0948512"
      },
      "outputs": [
        {
          "data": {
            "text/plain": [
              "0.9380392156862745"
            ]
          },
          "execution_count": 47,
          "metadata": {},
          "output_type": "execute_result"
        }
      ],
      "source": [
        "pipeGBM.score(X_test, y_test)"
      ]
    },
    {
      "cell_type": "code",
      "execution_count": 48,
      "metadata": {
        "id": "z52n01MZa9Ai"
      },
      "outputs": [],
      "source": [
        "y_pred = pipeGBM.predict(X_test)"
      ]
    },
    {
      "cell_type": "code",
      "execution_count": 49,
      "metadata": {
        "id": "5ZQF1exOcheR"
      },
      "outputs": [],
      "source": [
        "conf_matrix = confusion_matrix(y_true = y_test, y_pred = y_pred)"
      ]
    },
    {
      "cell_type": "code",
      "execution_count": 50,
      "metadata": {
        "colab": {
          "base_uri": "https://localhost:8080/",
          "height": 368
        },
        "id": "Sbq3WY3lci0u",
        "outputId": "fc52558f-7919-4b93-b57c-2f3c740f3c52"
      },
      "outputs": [
        {
          "data": {
            "image/png": "[encoded data removed]",
            "text/plain": [
              "<Figure size 500x400 with 2 Axes>"
            ]
          },
          "metadata": {},
          "output_type": "display_data"
        }
      ],
      "source": [
        "plt.figure(figsize=(5, 4))\n",
        "sns.heatmap(conf_matrix, annot=True, fmt=\"g\")\n",
        "plt.show()"
      ]
    },
    {
      "cell_type": "markdown",
      "metadata": {
        "id": "kfe2Wfddewkg"
      },
      "source": [
        "# Metrics Results"
      ]
    },
    {
      "cell_type": "code",
      "execution_count": 51,
      "metadata": {
        "colab": {
          "base_uri": "https://localhost:8080/"
        },
        "id": "tWDwTxXAgm25",
        "outputId": "39fbb0c7-a0c7-45aa-c636-ac580a73a665"
      },
      "outputs": [
        {
          "name": "stdout",
          "output_type": "stream",
          "text": [
            "Step:      LogisticRegression\n",
            "Step:      SVC\n",
            "Step:      RandomForestClassifier\n",
            "Step:      KNeighborsClassifier\n",
            "Step:      GradientBoostingClassifier\n"
          ]
        }
      ],
      "source": [
        "LR_scores, SVM_scores, RF_scores, KNN_scores, GBM_scores = {}, {}, {}, {}, {}\n",
        "\n",
        "for scores, classifier in zip(\n",
        "    (LR_scores, SVM_scores, RF_scores, KNN_scores, GBM_scores), (pipeLR, pipeSVM, pipeRF, pipeKNN, pipeGBM)\n",
        "):\n",
        "    name = classifier[-1].__class__.__name__\n",
        "    print(\"Step:\".ljust(10), f\"{name}\")\n",
        "    \n",
        "    probabilities = cross_val_predict(classifier, X, y, method=\"predict_proba\")\n",
        "    positive_class_proba = probabilities[:, 1]\n",
        "    predictions = np.argmax(probabilities, axis=1)\n",
        "\n",
        "    scores[\"Classifier\"] = name\n",
        "    scores[\"Accuracy\"] = accuracy_score(y, predictions)\n",
        "    scores[\"Precision\"] = precision_score(y, predictions)\n",
        "    scores[\"Recall\"] = recall_score(y, predictions)\n",
        "    scores[\"Specificity\"] = recall_score(y, predictions, pos_label=0)\n",
        "    scores[\"F1\"] = f1_score(y, predictions)\n",
        "    scores[\"ROC-AUC\"] = roc_auc_score(y, positive_class_proba)\n",
        "    scores[\"FPR-TPR-Threshold\"] = roc_curve(y, positive_class_proba)"
      ]
    },
    {
      "cell_type": "code",
      "execution_count": 52,
      "metadata": {
        "colab": {
          "base_uri": "https://localhost:8080/",
          "height": 206
        },
        "id": "BC9h23UtqQwA",
        "outputId": "50e78104-22af-4ca6-a291-b60c0a0ed3e5"
      },
      "outputs": [
        {
          "data": {
            "text/html": [
              "<style type=\"text/css\">\n",
              "#T_1bc38_row0_col0 {\n",
              "  background-color: #e6e7ec;\n",
              "  color: #000000;\n",
              "}\n",
              "#T_1bc38_row0_col1 {\n",
              "  background-color: #d9dae4;\n",
              "  color: #000000;\n",
              "}\n",
              "#T_1bc38_row0_col2 {\n",
              "  background-color: #3c4688;\n",
              "  color: #f1f1f1;\n",
              "}\n",
              "#T_1bc38_row0_col3, #T_1bc38_row3_col0, #T_1bc38_row3_col1, #T_1bc38_row3_col2, #T_1bc38_row3_col4, #T_1bc38_row3_col5 {\n",
              "  background-color: #f0f1f2;\n",
              "  color: #000000;\n",
              "}\n",
              "#T_1bc38_row0_col4 {\n",
              "  background-color: #babdd2;\n",
              "  color: #000000;\n",
              "}\n",
              "#T_1bc38_row0_col5 {\n",
              "  background-color: #7c82ad;\n",
              "  color: #f1f1f1;\n",
              "}\n",
              "#T_1bc38_row1_col0 {\n",
              "  background-color: #a2a6c4;\n",
              "  color: #f1f1f1;\n",
              "}\n",
              "#T_1bc38_row1_col1 {\n",
              "  background-color: #b9bcd1;\n",
              "  color: #000000;\n",
              "}\n",
              "#T_1bc38_row1_col2 {\n",
              "  background-color: #9ca0c0;\n",
              "  color: #f1f1f1;\n",
              "}\n",
              "#T_1bc38_row1_col3 {\n",
              "  background-color: #9196ba;\n",
              "  color: #f1f1f1;\n",
              "}\n",
              "#T_1bc38_row1_col4 {\n",
              "  background-color: #adb1ca;\n",
              "  color: #000000;\n",
              "}\n",
              "#T_1bc38_row1_col5 {\n",
              "  background-color: #6e76a5;\n",
              "  color: #f1f1f1;\n",
              "}\n",
              "#T_1bc38_row2_col0, #T_1bc38_row2_col2, #T_1bc38_row2_col4, #T_1bc38_row2_col5, #T_1bc38_row4_col1, #T_1bc38_row4_col3 {\n",
              "  background-color: #2a357d;\n",
              "  color: #f1f1f1;\n",
              "}\n",
              "#T_1bc38_row2_col1 {\n",
              "  background-color: #2f3a80;\n",
              "  color: #f1f1f1;\n",
              "}\n",
              "#T_1bc38_row2_col3, #T_1bc38_row4_col4 {\n",
              "  background-color: #2e397f;\n",
              "  color: #f1f1f1;\n",
              "}\n",
              "#T_1bc38_row3_col3 {\n",
              "  background-color: #cfd1de;\n",
              "  color: #000000;\n",
              "}\n",
              "#T_1bc38_row4_col0 {\n",
              "  background-color: #2b367d;\n",
              "  color: #f1f1f1;\n",
              "}\n",
              "#T_1bc38_row4_col2 {\n",
              "  background-color: #404a8a;\n",
              "  color: #f1f1f1;\n",
              "}\n",
              "#T_1bc38_row4_col5 {\n",
              "  background-color: #364084;\n",
              "  color: #f1f1f1;\n",
              "}\n",
              "</style>\n",
              "<table id=\"T_1bc38\">\n",
              "  <thead>\n",
              "    <tr>\n",
              "      <th class=\"blank level0\" >&nbsp;</th>\n",
              "      <th id=\"T_1bc38_level0_col0\" class=\"col_heading level0 col0\" >Accuracy</th>\n",
              "      <th id=\"T_1bc38_level0_col1\" class=\"col_heading level0 col1\" >Precision</th>\n",
              "      <th id=\"T_1bc38_level0_col2\" class=\"col_heading level0 col2\" >Recall</th>\n",
              "      <th id=\"T_1bc38_level0_col3\" class=\"col_heading level0 col3\" >Specificity</th>\n",
              "      <th id=\"T_1bc38_level0_col4\" class=\"col_heading level0 col4\" >F1</th>\n",
              "      <th id=\"T_1bc38_level0_col5\" class=\"col_heading level0 col5\" >ROC-AUC</th>\n",
              "    </tr>\n",
              "  </thead>\n",
              "  <tbody>\n",
              "    <tr>\n",
              "      <th id=\"T_1bc38_level0_row0\" class=\"row_heading level0 row0\" >LogisticRegression</th>\n",
              "      <td id=\"T_1bc38_row0_col0\" class=\"data row0 col0\" >0.773882</td>\n",
              "      <td id=\"T_1bc38_row0_col1\" class=\"data row0 col1\" >0.356522</td>\n",
              "      <td id=\"T_1bc38_row0_col2\" class=\"data row0 col2\" >0.754181</td>\n",
              "      <td id=\"T_1bc38_row0_col3\" class=\"data row0 col3\" >0.777108</td>\n",
              "      <td id=\"T_1bc38_row0_col4\" class=\"data row0 col4\" >0.484165</td>\n",
              "      <td id=\"T_1bc38_row0_col5\" class=\"data row0 col5\" >0.819430</td>\n",
              "    </tr>\n",
              "    <tr>\n",
              "      <th id=\"T_1bc38_level0_row1\" class=\"row_heading level0 row1\" >SVC</th>\n",
              "      <td id=\"T_1bc38_row1_col0\" class=\"data row1 col0\" >0.833412</td>\n",
              "      <td id=\"T_1bc38_row1_col1\" class=\"data row1 col1\" >0.435142</td>\n",
              "      <td id=\"T_1bc38_row1_col2\" class=\"data row1 col2\" >0.617057</td>\n",
              "      <td id=\"T_1bc38_row1_col3\" class=\"data row1 col3\" >0.868839</td>\n",
              "      <td id=\"T_1bc38_row1_col4\" class=\"data row1 col4\" >0.510373</td>\n",
              "      <td id=\"T_1bc38_row1_col5\" class=\"data row1 col5\" >0.835921</td>\n",
              "    </tr>\n",
              "    <tr>\n",
              "      <th id=\"T_1bc38_level0_row2\" class=\"row_heading level0 row2\" >RandomForestClassifier</th>\n",
              "      <td id=\"T_1bc38_row2_col0\" class=\"data row2 col0\" >0.937647</td>\n",
              "      <td id=\"T_1bc38_row2_col1\" class=\"data row2 col1\" >0.777038</td>\n",
              "      <td id=\"T_1bc38_row2_col2\" class=\"data row2 col2\" >0.780936</td>\n",
              "      <td id=\"T_1bc38_row2_col3\" class=\"data row2 col3\" >0.963308</td>\n",
              "      <td id=\"T_1bc38_row2_col4\" class=\"data row2 col4\" >0.778982</td>\n",
              "      <td id=\"T_1bc38_row2_col5\" class=\"data row2 col5\" >0.917753</td>\n",
              "    </tr>\n",
              "    <tr>\n",
              "      <th id=\"T_1bc38_level0_row3\" class=\"row_heading level0 row3\" >KNeighborsClassifier</th>\n",
              "      <td id=\"T_1bc38_row3_col0\" class=\"data row3 col0\" >0.764941</td>\n",
              "      <td id=\"T_1bc38_row3_col1\" class=\"data row3 col1\" >0.298087</td>\n",
              "      <td id=\"T_1bc38_row3_col2\" class=\"data row3 col2\" >0.494983</td>\n",
              "      <td id=\"T_1bc38_row3_col3\" class=\"data row3 col3\" >0.809146</td>\n",
              "      <td id=\"T_1bc38_row3_col4\" class=\"data row3 col4\" >0.372093</td>\n",
              "      <td id=\"T_1bc38_row3_col5\" class=\"data row3 col5\" >0.680059</td>\n",
              "    </tr>\n",
              "    <tr>\n",
              "      <th id=\"T_1bc38_level0_row4\" class=\"row_heading level0 row4\" >GradientBoostingClassifier</th>\n",
              "      <td id=\"T_1bc38_row4_col0\" class=\"data row4 col0\" >0.936941</td>\n",
              "      <td id=\"T_1bc38_row4_col1\" class=\"data row4 col1\" >0.791519</td>\n",
              "      <td id=\"T_1bc38_row4_col2\" class=\"data row4 col2\" >0.749164</td>\n",
              "      <td id=\"T_1bc38_row4_col3\" class=\"data row4 col3\" >0.967689</td>\n",
              "      <td id=\"T_1bc38_row4_col4\" class=\"data row4 col4\" >0.769759</td>\n",
              "      <td id=\"T_1bc38_row4_col5\" class=\"data row4 col5\" >0.903445</td>\n",
              "    </tr>\n",
              "  </tbody>\n",
              "</table>\n"
            ],
            "text/plain": [
              "<pandas.io.formats.style.Styler at 0x1791f105290>"
            ]
          },
          "execution_count": 52,
          "metadata": {},
          "output_type": "execute_result"
        }
      ],
      "source": [
        "metrics = pd.DataFrame(\n",
        "    {\n",
        "        LR_scores[\"Classifier\"]: [\n",
        "            LR_scores[\"Accuracy\"],\n",
        "            LR_scores[\"Precision\"],\n",
        "            LR_scores[\"Recall\"],\n",
        "            LR_scores[\"Specificity\"],\n",
        "            LR_scores[\"F1\"],\n",
        "            LR_scores[\"ROC-AUC\"],\n",
        "        ],\n",
        "        SVM_scores[\"Classifier\"]: [\n",
        "            SVM_scores[\"Accuracy\"],\n",
        "            SVM_scores[\"Precision\"],\n",
        "            SVM_scores[\"Recall\"],\n",
        "            SVM_scores[\"Specificity\"],\n",
        "            SVM_scores[\"F1\"],\n",
        "            SVM_scores[\"ROC-AUC\"],\n",
        "        ],\n",
        "        RF_scores[\"Classifier\"]: [\n",
        "            RF_scores[\"Accuracy\"],\n",
        "            RF_scores[\"Precision\"],\n",
        "            RF_scores[\"Recall\"],\n",
        "            RF_scores[\"Specificity\"],\n",
        "            RF_scores[\"F1\"],\n",
        "            RF_scores[\"ROC-AUC\"],\n",
        "        ],\n",
        "        KNN_scores[\"Classifier\"]: [\n",
        "            KNN_scores[\"Accuracy\"],\n",
        "            KNN_scores[\"Precision\"],\n",
        "            KNN_scores[\"Recall\"],\n",
        "            KNN_scores[\"Specificity\"],\n",
        "            KNN_scores[\"F1\"],\n",
        "            KNN_scores[\"ROC-AUC\"],\n",
        "        ],\n",
        "        GBM_scores[\"Classifier\"]: [\n",
        "            GBM_scores[\"Accuracy\"],\n",
        "            GBM_scores[\"Precision\"],\n",
        "            GBM_scores[\"Recall\"],\n",
        "            GBM_scores[\"Specificity\"],\n",
        "            GBM_scores[\"F1\"],\n",
        "            GBM_scores[\"ROC-AUC\"],\n",
        "        ]\n",
        "    },\n",
        "    index=[\"Accuracy\", \"Precision\", \"Recall\", \"Specificity\", \"F1\", \"ROC-AUC\"],\n",
        ")\n",
        "\n",
        "DF_CMAP = sns.light_palette(\"#2a357d\", as_cmap=True)\n",
        "metrics.T.style.background_gradient(DF_CMAP)"
      ]
    },
    {
      "cell_type": "code",
      "execution_count": 53,
      "metadata": {
        "colab": {
          "base_uri": "https://localhost:8080/",
          "height": 517
        },
        "id": "Q4VtOfndr2nl",
        "outputId": "5236309a-a3c0-4dea-f4e9-69bb29e8693b"
      },
      "outputs": [
        {
          "data": {
            "application/vnd.plotly.v1+json": {
              "config": {
                "plotlyServerURL": "https://plot.ly"
              },
              "data": [
                {
                  "hovertemplate": "Classifier=LogisticRegression<br>Metric=%{x}<br>Value=%{y}<extra></extra>",
                  "legendgroup": "LogisticRegression",
                  "line": {
                    "color": "#0f173b",
                    "dash": "solid"
                  },
                  "marker": {
                    "symbol": "circle"
                  },
                  "mode": "markers+lines",
                  "name": "LogisticRegression",
                  "orientation": "v",
                  "showlegend": true,
                  "type": "scatter",
                  "x": [
                    "Accuracy",
                    "Precision",
                    "Recall",
                    "Specificity",
                    "F1",
                    "ROC-AUC"
                  ],
                  "xaxis": "x",
                  "y": [
                    0.7738823529411765,
                    0.3565217391304348,
                    0.754180602006689,
                    0.7771084337349398,
                    0.48416532474503493,
                    0.8194300461194123
                  ],
                  "yaxis": "y"
                },
                {
                  "hovertemplate": "Classifier=SVC<br>Metric=%{x}<br>Value=%{y}<extra></extra>",
                  "legendgroup": "SVC",
                  "line": {
                    "color": "#c73c1a",
                    "dash": "dash"
                  },
                  "marker": {
                    "symbol": "diamond"
                  },
                  "mode": "markers+lines",
                  "name": "SVC",
                  "orientation": "v",
                  "showlegend": true,
                  "type": "scatter",
                  "x": [
                    "Accuracy",
                    "Precision",
                    "Recall",
                    "Specificity",
                    "F1",
                    "ROC-AUC"
                  ],
                  "xaxis": "x",
                  "y": [
                    0.8334117647058824,
                    0.43514150943396224,
                    0.617056856187291,
                    0.8688389923329682,
                    0.5103734439834025,
                    0.8359207581313396
                  ],
                  "yaxis": "y"
                },
                {
                  "hovertemplate": "Classifier=RandomForestClassifier<br>Metric=%{x}<br>Value=%{y}<extra></extra>",
                  "legendgroup": "RandomForestClassifier",
                  "line": {
                    "color": "#454d82",
                    "dash": "dot"
                  },
                  "marker": {
                    "symbol": "square"
                  },
                  "mode": "markers+lines",
                  "name": "RandomForestClassifier",
                  "orientation": "v",
                  "showlegend": true,
                  "type": "scatter",
                  "x": [
                    "Accuracy",
                    "Precision",
                    "Recall",
                    "Specificity",
                    "F1",
                    "ROC-AUC"
                  ],
                  "xaxis": "x",
                  "y": [
                    0.9376470588235294,
                    0.7770382695507487,
                    0.7809364548494984,
                    0.9633077765607886,
                    0.7789824854045037,
                    0.9177531805543854
                  ],
                  "yaxis": "y"
                },
                {
                  "hovertemplate": "Classifier=KNeighborsClassifier<br>Metric=%{x}<br>Value=%{y}<extra></extra>",
                  "legendgroup": "KNeighborsClassifier",
                  "line": {
                    "color": "yellowgreen",
                    "dash": "dashdot"
                  },
                  "marker": {
                    "symbol": "x"
                  },
                  "mode": "markers+lines",
                  "name": "KNeighborsClassifier",
                  "orientation": "v",
                  "showlegend": true,
                  "type": "scatter",
                  "x": [
                    "Accuracy",
                    "Precision",
                    "Recall",
                    "Specificity",
                    "F1",
                    "ROC-AUC"
                  ],
                  "xaxis": "x",
                  "y": [
                    0.7649411764705882,
                    0.2980866062437059,
                    0.49498327759197325,
                    0.809145673603505,
                    0.37209302325581395,
                    0.6800591694842612
                  ],
                  "yaxis": "y"
                },
                {
                  "hovertemplate": "Classifier=GradientBoostingClassifier<br>Metric=%{x}<br>Value=%{y}<extra></extra>",
                  "legendgroup": "GradientBoostingClassifier",
                  "line": {
                    "color": "#0f173b",
                    "dash": "solid"
                  },
                  "marker": {
                    "symbol": "cross"
                  },
                  "mode": "markers+lines",
                  "name": "GradientBoostingClassifier",
                  "orientation": "v",
                  "showlegend": true,
                  "type": "scatter",
                  "x": [
                    "Accuracy",
                    "Precision",
                    "Recall",
                    "Specificity",
                    "F1",
                    "ROC-AUC"
                  ],
                  "xaxis": "x",
                  "y": [
                    0.9369411764705883,
                    0.7915194346289752,
                    0.7491638795986622,
                    0.9676889375684556,
                    0.7697594501718212,
                    0.9034445779469353
                  ],
                  "yaxis": "y"
                }
              ],
              "layout": {
                "height": 500,
                "legend": {
                  "title": {
                    "text": "Classifier"
                  },
                  "tracegroupgap": 0
                },
                "paper_bgcolor": "#F6F5F5",
                "plot_bgcolor": "#F6F5F5",
                "template": {
                  "data": {
                    "bar": [
                      {
                        "error_x": {
                          "color": "#2a3f5f"
                        },
                        "error_y": {
                          "color": "#2a3f5f"
                        },
                        "marker": {
                          "line": {
                            "color": "#E5ECF6",
                            "width": 0.5
                          },
                          "pattern": {
                            "fillmode": "overlay",
                            "size": 10,
                            "solidity": 0.2
                          }
                        },
                        "type": "bar"
                      }
                    ],
                    "barpolar": [
                      {
                        "marker": {
                          "line": {
                            "color": "#E5ECF6",
                            "width": 0.5
                          },
                          "pattern": {
                            "fillmode": "overlay",
                            "size": 10,
                            "solidity": 0.2
                          }
                        },
                        "type": "barpolar"
                      }
                    ],
                    "carpet": [
                      {
                        "aaxis": {
                          "endlinecolor": "#2a3f5f",
                          "gridcolor": "white",
                          "linecolor": "white",
                          "minorgridcolor": "white",
                          "startlinecolor": "#2a3f5f"
                        },
                        "baxis": {
                          "endlinecolor": "#2a3f5f",
                          "gridcolor": "white",
                          "linecolor": "white",
                          "minorgridcolor": "white",
                          "startlinecolor": "#2a3f5f"
                        },
                        "type": "carpet"
                      }
                    ],
                    "choropleth": [
                      {
                        "colorbar": {
                          "outlinewidth": 0,
                          "ticks": ""
                        },
                        "type": "choropleth"
                      }
                    ],
                    "contour": [
                      {
                        "colorbar": {
                          "outlinewidth": 0,
                          "ticks": ""
                        },
                        "colorscale": [
                          [
                            0,
                            "#0d0887"
                          ],
                          [
                            0.1111111111111111,
                            "#46039f"
                          ],
                          [
                            0.2222222222222222,
                            "#7201a8"
                          ],
                          [
                            0.3333333333333333,
                            "#9c179e"
                          ],
                          [
                            0.4444444444444444,
                            "#bd3786"
                          ],
                          [
                            0.5555555555555556,
                            "#d8576b"
                          ],
                          [
                            0.6666666666666666,
                            "#ed7953"
                          ],
                          [
                            0.7777777777777778,
                            "#fb9f3a"
                          ],
                          [
                            0.8888888888888888,
                            "#fdca26"
                          ],
                          [
                            1,
                            "#f0f921"
                          ]
                        ],
                        "type": "contour"
                      }
                    ],
                    "contourcarpet": [
                      {
                        "colorbar": {
                          "outlinewidth": 0,
                          "ticks": ""
                        },
                        "type": "contourcarpet"
                      }
                    ],
                    "heatmap": [
                      {
                        "colorbar": {
                          "outlinewidth": 0,
                          "ticks": ""
                        },
                        "colorscale": [
                          [
                            0,
                            "#0d0887"
                          ],
                          [
                            0.1111111111111111,
                            "#46039f"
                          ],
                          [
                            0.2222222222222222,
                            "#7201a8"
                          ],
                          [
                            0.3333333333333333,
                            "#9c179e"
                          ],
                          [
                            0.4444444444444444,
                            "#bd3786"
                          ],
                          [
                            0.5555555555555556,
                            "#d8576b"
                          ],
                          [
                            0.6666666666666666,
                            "#ed7953"
                          ],
                          [
                            0.7777777777777778,
                            "#fb9f3a"
                          ],
                          [
                            0.8888888888888888,
                            "#fdca26"
                          ],
                          [
                            1,
                            "#f0f921"
                          ]
                        ],
                        "type": "heatmap"
                      }
                    ],
                    "heatmapgl": [
                      {
                        "colorbar": {
                          "outlinewidth": 0,
                          "ticks": ""
                        },
                        "colorscale": [
                          [
                            0,
                            "#0d0887"
                          ],
                          [
                            0.1111111111111111,
                            "#46039f"
                          ],
                          [
                            0.2222222222222222,
                            "#7201a8"
                          ],
                          [
                            0.3333333333333333,
                            "#9c179e"
                          ],
                          [
                            0.4444444444444444,
                            "#bd3786"
                          ],
                          [
                            0.5555555555555556,
                            "#d8576b"
                          ],
                          [
                            0.6666666666666666,
                            "#ed7953"
                          ],
                          [
                            0.7777777777777778,
                            "#fb9f3a"
                          ],
                          [
                            0.8888888888888888,
                            "#fdca26"
                          ],
                          [
                            1,
                            "#f0f921"
                          ]
                        ],
                        "type": "heatmapgl"
                      }
                    ],
                    "histogram": [
                      {
                        "marker": {
                          "pattern": {
                            "fillmode": "overlay",
                            "size": 10,
                            "solidity": 0.2
                          }
                        },
                        "type": "histogram"
                      }
                    ],
                    "histogram2d": [
                      {
                        "colorbar": {
                          "outlinewidth": 0,
                          "ticks": ""
                        },
                        "colorscale": [
                          [
                            0,
                            "#0d0887"
                          ],
                          [
                            0.1111111111111111,
                            "#46039f"
                          ],
                          [
                            0.2222222222222222,
                            "#7201a8"
                          ],
                          [
                            0.3333333333333333,
                            "#9c179e"
                          ],
                          [
                            0.4444444444444444,
                            "#bd3786"
                          ],
                          [
                            0.5555555555555556,
                            "#d8576b"
                          ],
                          [
                            0.6666666666666666,
                            "#ed7953"
                          ],
                          [
                            0.7777777777777778,
                            "#fb9f3a"
                          ],
                          [
                            0.8888888888888888,
                            "#fdca26"
                          ],
                          [
                            1,
                            "#f0f921"
                          ]
                        ],
                        "type": "histogram2d"
                      }
                    ],
                    "histogram2dcontour": [
                      {
                        "colorbar": {
                          "outlinewidth": 0,
                          "ticks": ""
                        },
                        "colorscale": [
                          [
                            0,
                            "#0d0887"
                          ],
                          [
                            0.1111111111111111,
                            "#46039f"
                          ],
                          [
                            0.2222222222222222,
                            "#7201a8"
                          ],
                          [
                            0.3333333333333333,
                            "#9c179e"
                          ],
                          [
                            0.4444444444444444,
                            "#bd3786"
                          ],
                          [
                            0.5555555555555556,
                            "#d8576b"
                          ],
                          [
                            0.6666666666666666,
                            "#ed7953"
                          ],
                          [
                            0.7777777777777778,
                            "#fb9f3a"
                          ],
                          [
                            0.8888888888888888,
                            "#fdca26"
                          ],
                          [
                            1,
                            "#f0f921"
                          ]
                        ],
                        "type": "histogram2dcontour"
                      }
                    ],
                    "mesh3d": [
                      {
                        "colorbar": {
                          "outlinewidth": 0,
                          "ticks": ""
                        },
                        "type": "mesh3d"
                      }
                    ],
                    "parcoords": [
                      {
                        "line": {
                          "colorbar": {
                            "outlinewidth": 0,
                            "ticks": ""
                          }
                        },
                        "type": "parcoords"
                      }
                    ],
                    "pie": [
                      {
                        "automargin": true,
                        "type": "pie"
                      }
                    ],
                    "scatter": [
                      {
                        "fillpattern": {
                          "fillmode": "overlay",
                          "size": 10,
                          "solidity": 0.2
                        },
                        "type": "scatter"
                      }
                    ],
                    "scatter3d": [
                      {
                        "line": {
                          "colorbar": {
                            "outlinewidth": 0,
                            "ticks": ""
                          }
                        },
                        "marker": {
                          "colorbar": {
                            "outlinewidth": 0,
                            "ticks": ""
                          }
                        },
                        "type": "scatter3d"
                      }
                    ],
                    "scattercarpet": [
                      {
                        "marker": {
                          "colorbar": {
                            "outlinewidth": 0,
                            "ticks": ""
                          }
                        },
                        "type": "scattercarpet"
                      }
                    ],
                    "scattergeo": [
                      {
                        "marker": {
                          "colorbar": {
                            "outlinewidth": 0,
                            "ticks": ""
                          }
                        },
                        "type": "scattergeo"
                      }
                    ],
                    "scattergl": [
                      {
                        "marker": {
                          "colorbar": {
                            "outlinewidth": 0,
                            "ticks": ""
                          }
                        },
                        "type": "scattergl"
                      }
                    ],
                    "scattermapbox": [
                      {
                        "marker": {
                          "colorbar": {
                            "outlinewidth": 0,
                            "ticks": ""
                          }
                        },
                        "type": "scattermapbox"
                      }
                    ],
                    "scatterpolar": [
                      {
                        "marker": {
                          "colorbar": {
                            "outlinewidth": 0,
                            "ticks": ""
                          }
                        },
                        "type": "scatterpolar"
                      }
                    ],
                    "scatterpolargl": [
                      {
                        "marker": {
                          "colorbar": {
                            "outlinewidth": 0,
                            "ticks": ""
                          }
                        },
                        "type": "scatterpolargl"
                      }
                    ],
                    "scatterternary": [
                      {
                        "marker": {
                          "colorbar": {
                            "outlinewidth": 0,
                            "ticks": ""
                          }
                        },
                        "type": "scatterternary"
                      }
                    ],
                    "surface": [
                      {
                        "colorbar": {
                          "outlinewidth": 0,
                          "ticks": ""
                        },
                        "colorscale": [
                          [
                            0,
                            "#0d0887"
                          ],
                          [
                            0.1111111111111111,
                            "#46039f"
                          ],
                          [
                            0.2222222222222222,
                            "#7201a8"
                          ],
                          [
                            0.3333333333333333,
                            "#9c179e"
                          ],
                          [
                            0.4444444444444444,
                            "#bd3786"
                          ],
                          [
                            0.5555555555555556,
                            "#d8576b"
                          ],
                          [
                            0.6666666666666666,
                            "#ed7953"
                          ],
                          [
                            0.7777777777777778,
                            "#fb9f3a"
                          ],
                          [
                            0.8888888888888888,
                            "#fdca26"
                          ],
                          [
                            1,
                            "#f0f921"
                          ]
                        ],
                        "type": "surface"
                      }
                    ],
                    "table": [
                      {
                        "cells": {
                          "fill": {
                            "color": "#EBF0F8"
                          },
                          "line": {
                            "color": "white"
                          }
                        },
                        "header": {
                          "fill": {
                            "color": "#C8D4E3"
                          },
                          "line": {
                            "color": "white"
                          }
                        },
                        "type": "table"
                      }
                    ]
                  },
                  "layout": {
                    "annotationdefaults": {
                      "arrowcolor": "#2a3f5f",
                      "arrowhead": 0,
                      "arrowwidth": 1
                    },
                    "autotypenumbers": "strict",
                    "coloraxis": {
                      "colorbar": {
                        "outlinewidth": 0,
                        "ticks": ""
                      }
                    },
                    "colorscale": {
                      "diverging": [
                        [
                          0,
                          "#8e0152"
                        ],
                        [
                          0.1,
                          "#c51b7d"
                        ],
                        [
                          0.2,
                          "#de77ae"
                        ],
                        [
                          0.3,
                          "#f1b6da"
                        ],
                        [
                          0.4,
                          "#fde0ef"
                        ],
                        [
                          0.5,
                          "#f7f7f7"
                        ],
                        [
                          0.6,
                          "#e6f5d0"
                        ],
                        [
                          0.7,
                          "#b8e186"
                        ],
                        [
                          0.8,
                          "#7fbc41"
                        ],
                        [
                          0.9,
                          "#4d9221"
                        ],
                        [
                          1,
                          "#276419"
                        ]
                      ],
                      "sequential": [
                        [
                          0,
                          "#0d0887"
                        ],
                        [
                          0.1111111111111111,
                          "#46039f"
                        ],
                        [
                          0.2222222222222222,
                          "#7201a8"
                        ],
                        [
                          0.3333333333333333,
                          "#9c179e"
                        ],
                        [
                          0.4444444444444444,
                          "#bd3786"
                        ],
                        [
                          0.5555555555555556,
                          "#d8576b"
                        ],
                        [
                          0.6666666666666666,
                          "#ed7953"
                        ],
                        [
                          0.7777777777777778,
                          "#fb9f3a"
                        ],
                        [
                          0.8888888888888888,
                          "#fdca26"
                        ],
                        [
                          1,
                          "#f0f921"
                        ]
                      ],
                      "sequentialminus": [
                        [
                          0,
                          "#0d0887"
                        ],
                        [
                          0.1111111111111111,
                          "#46039f"
                        ],
                        [
                          0.2222222222222222,
                          "#7201a8"
                        ],
                        [
                          0.3333333333333333,
                          "#9c179e"
                        ],
                        [
                          0.4444444444444444,
                          "#bd3786"
                        ],
                        [
                          0.5555555555555556,
                          "#d8576b"
                        ],
                        [
                          0.6666666666666666,
                          "#ed7953"
                        ],
                        [
                          0.7777777777777778,
                          "#fb9f3a"
                        ],
                        [
                          0.8888888888888888,
                          "#fdca26"
                        ],
                        [
                          1,
                          "#f0f921"
                        ]
                      ]
                    },
                    "colorway": [
                      "#636efa",
                      "#EF553B",
                      "#00cc96",
                      "#ab63fa",
                      "#FFA15A",
                      "#19d3f3",
                      "#FF6692",
                      "#B6E880",
                      "#FF97FF",
                      "#FECB52"
                    ],
                    "font": {
                      "color": "#2a3f5f"
                    },
                    "geo": {
                      "bgcolor": "white",
                      "lakecolor": "white",
                      "landcolor": "#E5ECF6",
                      "showlakes": true,
                      "showland": true,
                      "subunitcolor": "white"
                    },
                    "hoverlabel": {
                      "align": "left"
                    },
                    "hovermode": "closest",
                    "mapbox": {
                      "style": "light"
                    },
                    "paper_bgcolor": "white",
                    "plot_bgcolor": "#E5ECF6",
                    "polar": {
                      "angularaxis": {
                        "gridcolor": "white",
                        "linecolor": "white",
                        "ticks": ""
                      },
                      "bgcolor": "#E5ECF6",
                      "radialaxis": {
                        "gridcolor": "white",
                        "linecolor": "white",
                        "ticks": ""
                      }
                    },
                    "scene": {
                      "xaxis": {
                        "backgroundcolor": "#E5ECF6",
                        "gridcolor": "white",
                        "gridwidth": 2,
                        "linecolor": "white",
                        "showbackground": true,
                        "ticks": "",
                        "zerolinecolor": "white"
                      },
                      "yaxis": {
                        "backgroundcolor": "#E5ECF6",
                        "gridcolor": "white",
                        "gridwidth": 2,
                        "linecolor": "white",
                        "showbackground": true,
                        "ticks": "",
                        "zerolinecolor": "white"
                      },
                      "zaxis": {
                        "backgroundcolor": "#E5ECF6",
                        "gridcolor": "white",
                        "gridwidth": 2,
                        "linecolor": "white",
                        "showbackground": true,
                        "ticks": "",
                        "zerolinecolor": "white"
                      }
                    },
                    "shapedefaults": {
                      "line": {
                        "color": "#2a3f5f"
                      }
                    },
                    "ternary": {
                      "aaxis": {
                        "gridcolor": "white",
                        "linecolor": "white",
                        "ticks": ""
                      },
                      "baxis": {
                        "gridcolor": "white",
                        "linecolor": "white",
                        "ticks": ""
                      },
                      "bgcolor": "#E5ECF6",
                      "caxis": {
                        "gridcolor": "white",
                        "linecolor": "white",
                        "ticks": ""
                      }
                    },
                    "title": {
                      "x": 0.05
                    },
                    "xaxis": {
                      "automargin": true,
                      "gridcolor": "white",
                      "linecolor": "white",
                      "ticks": "",
                      "title": {
                        "standoff": 15
                      },
                      "zerolinecolor": "white",
                      "zerolinewidth": 2
                    },
                    "yaxis": {
                      "automargin": true,
                      "gridcolor": "white",
                      "linecolor": "white",
                      "ticks": "",
                      "title": {
                        "standoff": 15
                      },
                      "zerolinecolor": "white",
                      "zerolinewidth": 2
                    }
                  }
                },
                "title": {
                  "text": "Models Metrics Summary"
                },
                "width": 750,
                "xaxis": {
                  "anchor": "y",
                  "domain": [
                    0,
                    1
                  ],
                  "title": {
                    "text": "Metric"
                  }
                },
                "yaxis": {
                  "anchor": "x",
                  "domain": [
                    0,
                    1
                  ],
                  "range": [
                    0,
                    1
                  ],
                  "title": {
                    "text": "Value"
                  }
                }
              }
            }
          },
          "metadata": {},
          "output_type": "display_data"
        }
      ],
      "source": [
        "fig = px.line(\n",
        "    metrics,\n",
        "    markers=True,\n",
        "    height=500,\n",
        "    width=750,\n",
        "    range_y=(0, 1),\n",
        "    labels={\"variable\": \"Classifier\", \"value\": \"Value\", \"index\": \"Metric\"},\n",
        "    title=\"Models Metrics Summary\",\n",
        "    color=\"variable\",\n",
        "    line_dash=\"variable\",\n",
        "    symbol=\"variable\",\n",
        "    color_discrete_sequence=[\"#0f173b\", \"#c73c1a\", \"#454d82\", \"yellowgreen\"],\n",
        "    line_dash_sequence=[\"solid\", \"dash\", \"dot\", \"dashdot\"],\n",
        ")\n",
        "BACKGROUND_COLOR = \"#F6F5F5\"\n",
        "fig.update_layout(\n",
        "    plot_bgcolor=BACKGROUND_COLOR,\n",
        "    paper_bgcolor=BACKGROUND_COLOR,\n",
        ")\n",
        "fig.show()"
      ]
    },
    {
      "cell_type": "markdown",
      "metadata": {
        "id": "TxHpKX8YVRUY"
      },
      "source": [
        "# Conclusions\n",
        " **Random Forest** gives us the highest accuracy as compared to *Logistic Regression, SVM, KNN, and Gradient Boosting* \\\n",
        "\n",
        "\n"
      ]
    },
    {
      "cell_type": "markdown",
      "metadata": {
        "id": "LoE8VZViBWLr"
      },
      "source": [
        "#Random Forest to make prediction on Data Test.csv"
      ]
    },
    {
      "cell_type": "code",
      "execution_count": 54,
      "metadata": {
        "id": "thavYSQ3BUhe"
      },
      "outputs": [],
      "source": [
        "test['churn'] = pipeRF.predict(test)"
      ]
    },
    {
      "cell_type": "code",
      "execution_count": 55,
      "metadata": {
        "colab": {
          "base_uri": "https://localhost:8080/",
          "height": 487
        },
        "id": "K6esWKidCoel",
        "outputId": "284604c8-723b-451d-c659-3f72f51c7b51"
      },
      "outputs": [
        {
          "data": {
            "text/html": [
              "<div>\n",
              "<style scoped>\n",
              "    .dataframe tbody tr th:only-of-type {\n",
              "        vertical-align: middle;\n",
              "    }\n",
              "\n",
              "    .dataframe tbody tr th {\n",
              "        vertical-align: top;\n",
              "    }\n",
              "\n",
              "    .dataframe thead th {\n",
              "        text-align: right;\n",
              "    }\n",
              "</style>\n",
              "<table border=\"1\" class=\"dataframe\">\n",
              "  <thead>\n",
              "    <tr style=\"text-align: right;\">\n",
              "      <th></th>\n",
              "      <th>id</th>\n",
              "      <th>state</th>\n",
              "      <th>account_length</th>\n",
              "      <th>area_code</th>\n",
              "      <th>international_plan</th>\n",
              "      <th>voice_mail_plan</th>\n",
              "      <th>number_vmail_messages</th>\n",
              "      <th>total_day_minutes</th>\n",
              "      <th>total_day_calls</th>\n",
              "      <th>total_day_charge</th>\n",
              "      <th>...</th>\n",
              "      <th>total_eve_calls</th>\n",
              "      <th>total_eve_charge</th>\n",
              "      <th>total_night_minutes</th>\n",
              "      <th>total_night_calls</th>\n",
              "      <th>total_night_charge</th>\n",
              "      <th>total_intl_minutes</th>\n",
              "      <th>total_intl_calls</th>\n",
              "      <th>total_intl_charge</th>\n",
              "      <th>number_customer_service_calls</th>\n",
              "      <th>churn</th>\n",
              "    </tr>\n",
              "  </thead>\n",
              "  <tbody>\n",
              "    <tr>\n",
              "      <th>0</th>\n",
              "      <td>1</td>\n",
              "      <td>KS</td>\n",
              "      <td>128</td>\n",
              "      <td>area_code_415</td>\n",
              "      <td>no</td>\n",
              "      <td>yes</td>\n",
              "      <td>25</td>\n",
              "      <td>265.1</td>\n",
              "      <td>110</td>\n",
              "      <td>45.07</td>\n",
              "      <td>...</td>\n",
              "      <td>99</td>\n",
              "      <td>16.78</td>\n",
              "      <td>244.7</td>\n",
              "      <td>91</td>\n",
              "      <td>11.01</td>\n",
              "      <td>10.0</td>\n",
              "      <td>3</td>\n",
              "      <td>2.70</td>\n",
              "      <td>1</td>\n",
              "      <td>0</td>\n",
              "    </tr>\n",
              "    <tr>\n",
              "      <th>1</th>\n",
              "      <td>2</td>\n",
              "      <td>AL</td>\n",
              "      <td>118</td>\n",
              "      <td>area_code_510</td>\n",
              "      <td>yes</td>\n",
              "      <td>no</td>\n",
              "      <td>0</td>\n",
              "      <td>223.4</td>\n",
              "      <td>98</td>\n",
              "      <td>37.98</td>\n",
              "      <td>...</td>\n",
              "      <td>101</td>\n",
              "      <td>18.75</td>\n",
              "      <td>203.9</td>\n",
              "      <td>118</td>\n",
              "      <td>9.18</td>\n",
              "      <td>6.3</td>\n",
              "      <td>6</td>\n",
              "      <td>1.70</td>\n",
              "      <td>0</td>\n",
              "      <td>0</td>\n",
              "    </tr>\n",
              "    <tr>\n",
              "      <th>2</th>\n",
              "      <td>3</td>\n",
              "      <td>IA</td>\n",
              "      <td>62</td>\n",
              "      <td>area_code_415</td>\n",
              "      <td>no</td>\n",
              "      <td>no</td>\n",
              "      <td>0</td>\n",
              "      <td>120.7</td>\n",
              "      <td>70</td>\n",
              "      <td>20.52</td>\n",
              "      <td>...</td>\n",
              "      <td>76</td>\n",
              "      <td>26.11</td>\n",
              "      <td>203.0</td>\n",
              "      <td>99</td>\n",
              "      <td>9.14</td>\n",
              "      <td>13.1</td>\n",
              "      <td>6</td>\n",
              "      <td>3.54</td>\n",
              "      <td>4</td>\n",
              "      <td>1</td>\n",
              "    </tr>\n",
              "    <tr>\n",
              "      <th>3</th>\n",
              "      <td>4</td>\n",
              "      <td>VT</td>\n",
              "      <td>93</td>\n",
              "      <td>area_code_510</td>\n",
              "      <td>no</td>\n",
              "      <td>no</td>\n",
              "      <td>0</td>\n",
              "      <td>190.7</td>\n",
              "      <td>114</td>\n",
              "      <td>32.42</td>\n",
              "      <td>...</td>\n",
              "      <td>111</td>\n",
              "      <td>18.55</td>\n",
              "      <td>129.6</td>\n",
              "      <td>121</td>\n",
              "      <td>5.83</td>\n",
              "      <td>8.1</td>\n",
              "      <td>3</td>\n",
              "      <td>2.19</td>\n",
              "      <td>3</td>\n",
              "      <td>0</td>\n",
              "    </tr>\n",
              "    <tr>\n",
              "      <th>4</th>\n",
              "      <td>5</td>\n",
              "      <td>NE</td>\n",
              "      <td>174</td>\n",
              "      <td>area_code_415</td>\n",
              "      <td>no</td>\n",
              "      <td>no</td>\n",
              "      <td>0</td>\n",
              "      <td>124.3</td>\n",
              "      <td>76</td>\n",
              "      <td>21.13</td>\n",
              "      <td>...</td>\n",
              "      <td>112</td>\n",
              "      <td>23.55</td>\n",
              "      <td>250.7</td>\n",
              "      <td>115</td>\n",
              "      <td>11.28</td>\n",
              "      <td>15.5</td>\n",
              "      <td>5</td>\n",
              "      <td>4.19</td>\n",
              "      <td>3</td>\n",
              "      <td>0</td>\n",
              "    </tr>\n",
              "    <tr>\n",
              "      <th>...</th>\n",
              "      <td>...</td>\n",
              "      <td>...</td>\n",
              "      <td>...</td>\n",
              "      <td>...</td>\n",
              "      <td>...</td>\n",
              "      <td>...</td>\n",
              "      <td>...</td>\n",
              "      <td>...</td>\n",
              "      <td>...</td>\n",
              "      <td>...</td>\n",
              "      <td>...</td>\n",
              "      <td>...</td>\n",
              "      <td>...</td>\n",
              "      <td>...</td>\n",
              "      <td>...</td>\n",
              "      <td>...</td>\n",
              "      <td>...</td>\n",
              "      <td>...</td>\n",
              "      <td>...</td>\n",
              "      <td>...</td>\n",
              "      <td>...</td>\n",
              "    </tr>\n",
              "    <tr>\n",
              "      <th>745</th>\n",
              "      <td>746</td>\n",
              "      <td>GA</td>\n",
              "      <td>130</td>\n",
              "      <td>area_code_415</td>\n",
              "      <td>no</td>\n",
              "      <td>no</td>\n",
              "      <td>0</td>\n",
              "      <td>119.4</td>\n",
              "      <td>99</td>\n",
              "      <td>20.30</td>\n",
              "      <td>...</td>\n",
              "      <td>97</td>\n",
              "      <td>19.24</td>\n",
              "      <td>202.7</td>\n",
              "      <td>111</td>\n",
              "      <td>9.12</td>\n",
              "      <td>11.3</td>\n",
              "      <td>7</td>\n",
              "      <td>3.05</td>\n",
              "      <td>0</td>\n",
              "      <td>0</td>\n",
              "    </tr>\n",
              "    <tr>\n",
              "      <th>746</th>\n",
              "      <td>747</td>\n",
              "      <td>WA</td>\n",
              "      <td>73</td>\n",
              "      <td>area_code_408</td>\n",
              "      <td>no</td>\n",
              "      <td>no</td>\n",
              "      <td>0</td>\n",
              "      <td>177.2</td>\n",
              "      <td>118</td>\n",
              "      <td>30.12</td>\n",
              "      <td>...</td>\n",
              "      <td>84</td>\n",
              "      <td>22.99</td>\n",
              "      <td>241.8</td>\n",
              "      <td>112</td>\n",
              "      <td>10.88</td>\n",
              "      <td>12.3</td>\n",
              "      <td>2</td>\n",
              "      <td>3.32</td>\n",
              "      <td>3</td>\n",
              "      <td>0</td>\n",
              "    </tr>\n",
              "    <tr>\n",
              "      <th>747</th>\n",
              "      <td>748</td>\n",
              "      <td>WV</td>\n",
              "      <td>152</td>\n",
              "      <td>area_code_415</td>\n",
              "      <td>no</td>\n",
              "      <td>no</td>\n",
              "      <td>0</td>\n",
              "      <td>184.2</td>\n",
              "      <td>90</td>\n",
              "      <td>31.31</td>\n",
              "      <td>...</td>\n",
              "      <td>73</td>\n",
              "      <td>21.83</td>\n",
              "      <td>213.6</td>\n",
              "      <td>113</td>\n",
              "      <td>9.61</td>\n",
              "      <td>14.7</td>\n",
              "      <td>2</td>\n",
              "      <td>3.97</td>\n",
              "      <td>3</td>\n",
              "      <td>0</td>\n",
              "    </tr>\n",
              "    <tr>\n",
              "      <th>748</th>\n",
              "      <td>749</td>\n",
              "      <td>DC</td>\n",
              "      <td>61</td>\n",
              "      <td>area_code_415</td>\n",
              "      <td>no</td>\n",
              "      <td>no</td>\n",
              "      <td>0</td>\n",
              "      <td>140.6</td>\n",
              "      <td>89</td>\n",
              "      <td>23.90</td>\n",
              "      <td>...</td>\n",
              "      <td>128</td>\n",
              "      <td>14.69</td>\n",
              "      <td>212.4</td>\n",
              "      <td>97</td>\n",
              "      <td>9.56</td>\n",
              "      <td>13.6</td>\n",
              "      <td>4</td>\n",
              "      <td>3.67</td>\n",
              "      <td>1</td>\n",
              "      <td>0</td>\n",
              "    </tr>\n",
              "    <tr>\n",
              "      <th>749</th>\n",
              "      <td>750</td>\n",
              "      <td>DC</td>\n",
              "      <td>109</td>\n",
              "      <td>area_code_510</td>\n",
              "      <td>no</td>\n",
              "      <td>no</td>\n",
              "      <td>0</td>\n",
              "      <td>188.8</td>\n",
              "      <td>67</td>\n",
              "      <td>32.10</td>\n",
              "      <td>...</td>\n",
              "      <td>92</td>\n",
              "      <td>14.59</td>\n",
              "      <td>224.4</td>\n",
              "      <td>89</td>\n",
              "      <td>10.10</td>\n",
              "      <td>8.5</td>\n",
              "      <td>6</td>\n",
              "      <td>2.30</td>\n",
              "      <td>0</td>\n",
              "      <td>0</td>\n",
              "    </tr>\n",
              "  </tbody>\n",
              "</table>\n",
              "<p>750 rows × 21 columns</p>\n",
              "</div>"
            ],
            "text/plain": [
              "      id state  account_length      area_code international_plan  \\\n",
              "0      1    KS             128  area_code_415                 no   \n",
              "1      2    AL             118  area_code_510                yes   \n",
              "2      3    IA              62  area_code_415                 no   \n",
              "3      4    VT              93  area_code_510                 no   \n",
              "4      5    NE             174  area_code_415                 no   \n",
              "..   ...   ...             ...            ...                ...   \n",
              "745  746    GA             130  area_code_415                 no   \n",
              "746  747    WA              73  area_code_408                 no   \n",
              "747  748    WV             152  area_code_415                 no   \n",
              "748  749    DC              61  area_code_415                 no   \n",
              "749  750    DC             109  area_code_510                 no   \n",
              "\n",
              "    voice_mail_plan  number_vmail_messages  total_day_minutes  \\\n",
              "0               yes                     25              265.1   \n",
              "1                no                      0              223.4   \n",
              "2                no                      0              120.7   \n",
              "3                no                      0              190.7   \n",
              "4                no                      0              124.3   \n",
              "..              ...                    ...                ...   \n",
              "745              no                      0              119.4   \n",
              "746              no                      0              177.2   \n",
              "747              no                      0              184.2   \n",
              "748              no                      0              140.6   \n",
              "749              no                      0              188.8   \n",
              "\n",
              "     total_day_calls  total_day_charge  ...  total_eve_calls  \\\n",
              "0                110             45.07  ...               99   \n",
              "1                 98             37.98  ...              101   \n",
              "2                 70             20.52  ...               76   \n",
              "3                114             32.42  ...              111   \n",
              "4                 76             21.13  ...              112   \n",
              "..               ...               ...  ...              ...   \n",
              "745               99             20.30  ...               97   \n",
              "746              118             30.12  ...               84   \n",
              "747               90             31.31  ...               73   \n",
              "748               89             23.90  ...              128   \n",
              "749               67             32.10  ...               92   \n",
              "\n",
              "     total_eve_charge  total_night_minutes  total_night_calls  \\\n",
              "0               16.78                244.7                 91   \n",
              "1               18.75                203.9                118   \n",
              "2               26.11                203.0                 99   \n",
              "3               18.55                129.6                121   \n",
              "4               23.55                250.7                115   \n",
              "..                ...                  ...                ...   \n",
              "745             19.24                202.7                111   \n",
              "746             22.99                241.8                112   \n",
              "747             21.83                213.6                113   \n",
              "748             14.69                212.4                 97   \n",
              "749             14.59                224.4                 89   \n",
              "\n",
              "     total_night_charge  total_intl_minutes  total_intl_calls  \\\n",
              "0                 11.01                10.0                 3   \n",
              "1                  9.18                 6.3                 6   \n",
              "2                  9.14                13.1                 6   \n",
              "3                  5.83                 8.1                 3   \n",
              "4                 11.28                15.5                 5   \n",
              "..                  ...                 ...               ...   \n",
              "745                9.12                11.3                 7   \n",
              "746               10.88                12.3                 2   \n",
              "747                9.61                14.7                 2   \n",
              "748                9.56                13.6                 4   \n",
              "749               10.10                 8.5                 6   \n",
              "\n",
              "     total_intl_charge  number_customer_service_calls  churn  \n",
              "0                 2.70                              1      0  \n",
              "1                 1.70                              0      0  \n",
              "2                 3.54                              4      1  \n",
              "3                 2.19                              3      0  \n",
              "4                 4.19                              3      0  \n",
              "..                 ...                            ...    ...  \n",
              "745               3.05                              0      0  \n",
              "746               3.32                              3      0  \n",
              "747               3.97                              3      0  \n",
              "748               3.67                              1      0  \n",
              "749               2.30                              0      0  \n",
              "\n",
              "[750 rows x 21 columns]"
            ]
          },
          "execution_count": 55,
          "metadata": {},
          "output_type": "execute_result"
        }
      ],
      "source": [
        "test"
      ]
    },
    {
      "cell_type": "code",
      "execution_count": 56,
      "metadata": {
        "colab": {
          "base_uri": "https://localhost:8080/",
          "height": 732
        },
        "id": "98ZxgOqzCpSJ",
        "outputId": "76bc6aa3-633a-4e62-bf75-66a13db514e9"
      },
      "outputs": [
        {
          "name": "stdout",
          "output_type": "stream",
          "text": [
            "Total Rows : 750\n",
            "Total Features : 21\n",
            "Duplicate Value: 0\n"
          ]
        },
        {
          "data": {
            "text/html": [
              "<div>\n",
              "<style scoped>\n",
              "    .dataframe tbody tr th:only-of-type {\n",
              "        vertical-align: middle;\n",
              "    }\n",
              "\n",
              "    .dataframe tbody tr th {\n",
              "        vertical-align: top;\n",
              "    }\n",
              "\n",
              "    .dataframe thead th {\n",
              "        text-align: right;\n",
              "    }\n",
              "</style>\n",
              "<table border=\"1\" class=\"dataframe\">\n",
              "  <thead>\n",
              "    <tr style=\"text-align: right;\">\n",
              "      <th></th>\n",
              "      <th>Feature</th>\n",
              "      <th>Data Type</th>\n",
              "      <th>Null</th>\n",
              "      <th>Null (%)</th>\n",
              "    </tr>\n",
              "  </thead>\n",
              "  <tbody>\n",
              "    <tr>\n",
              "      <th>0</th>\n",
              "      <td>state</td>\n",
              "      <td>object</td>\n",
              "      <td>0</td>\n",
              "      <td>0.0</td>\n",
              "    </tr>\n",
              "    <tr>\n",
              "      <th>1</th>\n",
              "      <td>account_length</td>\n",
              "      <td>int64</td>\n",
              "      <td>0</td>\n",
              "      <td>0.0</td>\n",
              "    </tr>\n",
              "    <tr>\n",
              "      <th>2</th>\n",
              "      <td>area_code</td>\n",
              "      <td>object</td>\n",
              "      <td>0</td>\n",
              "      <td>0.0</td>\n",
              "    </tr>\n",
              "    <tr>\n",
              "      <th>3</th>\n",
              "      <td>international_plan</td>\n",
              "      <td>object</td>\n",
              "      <td>0</td>\n",
              "      <td>0.0</td>\n",
              "    </tr>\n",
              "    <tr>\n",
              "      <th>4</th>\n",
              "      <td>voice_mail_plan</td>\n",
              "      <td>object</td>\n",
              "      <td>0</td>\n",
              "      <td>0.0</td>\n",
              "    </tr>\n",
              "    <tr>\n",
              "      <th>5</th>\n",
              "      <td>number_vmail_messages</td>\n",
              "      <td>int64</td>\n",
              "      <td>0</td>\n",
              "      <td>0.0</td>\n",
              "    </tr>\n",
              "    <tr>\n",
              "      <th>6</th>\n",
              "      <td>total_day_minutes</td>\n",
              "      <td>float64</td>\n",
              "      <td>0</td>\n",
              "      <td>0.0</td>\n",
              "    </tr>\n",
              "    <tr>\n",
              "      <th>7</th>\n",
              "      <td>total_day_calls</td>\n",
              "      <td>int64</td>\n",
              "      <td>0</td>\n",
              "      <td>0.0</td>\n",
              "    </tr>\n",
              "    <tr>\n",
              "      <th>8</th>\n",
              "      <td>total_day_charge</td>\n",
              "      <td>float64</td>\n",
              "      <td>0</td>\n",
              "      <td>0.0</td>\n",
              "    </tr>\n",
              "    <tr>\n",
              "      <th>9</th>\n",
              "      <td>total_eve_minutes</td>\n",
              "      <td>float64</td>\n",
              "      <td>0</td>\n",
              "      <td>0.0</td>\n",
              "    </tr>\n",
              "    <tr>\n",
              "      <th>10</th>\n",
              "      <td>total_eve_calls</td>\n",
              "      <td>int64</td>\n",
              "      <td>0</td>\n",
              "      <td>0.0</td>\n",
              "    </tr>\n",
              "    <tr>\n",
              "      <th>11</th>\n",
              "      <td>total_eve_charge</td>\n",
              "      <td>float64</td>\n",
              "      <td>0</td>\n",
              "      <td>0.0</td>\n",
              "    </tr>\n",
              "    <tr>\n",
              "      <th>12</th>\n",
              "      <td>total_night_minutes</td>\n",
              "      <td>float64</td>\n",
              "      <td>0</td>\n",
              "      <td>0.0</td>\n",
              "    </tr>\n",
              "    <tr>\n",
              "      <th>13</th>\n",
              "      <td>total_night_calls</td>\n",
              "      <td>int64</td>\n",
              "      <td>0</td>\n",
              "      <td>0.0</td>\n",
              "    </tr>\n",
              "    <tr>\n",
              "      <th>14</th>\n",
              "      <td>total_night_charge</td>\n",
              "      <td>float64</td>\n",
              "      <td>0</td>\n",
              "      <td>0.0</td>\n",
              "    </tr>\n",
              "    <tr>\n",
              "      <th>15</th>\n",
              "      <td>total_intl_minutes</td>\n",
              "      <td>float64</td>\n",
              "      <td>0</td>\n",
              "      <td>0.0</td>\n",
              "    </tr>\n",
              "    <tr>\n",
              "      <th>16</th>\n",
              "      <td>total_intl_calls</td>\n",
              "      <td>int64</td>\n",
              "      <td>0</td>\n",
              "      <td>0.0</td>\n",
              "    </tr>\n",
              "    <tr>\n",
              "      <th>17</th>\n",
              "      <td>total_intl_charge</td>\n",
              "      <td>float64</td>\n",
              "      <td>0</td>\n",
              "      <td>0.0</td>\n",
              "    </tr>\n",
              "    <tr>\n",
              "      <th>18</th>\n",
              "      <td>number_customer_service_calls</td>\n",
              "      <td>int64</td>\n",
              "      <td>0</td>\n",
              "      <td>0.0</td>\n",
              "    </tr>\n",
              "    <tr>\n",
              "      <th>19</th>\n",
              "      <td>churn</td>\n",
              "      <td>int64</td>\n",
              "      <td>0</td>\n",
              "      <td>0.0</td>\n",
              "    </tr>\n",
              "  </tbody>\n",
              "</table>\n",
              "</div>"
            ],
            "text/plain": [
              "                          Feature Data Type  Null  Null (%)\n",
              "0                           state    object     0       0.0\n",
              "1                  account_length     int64     0       0.0\n",
              "2                       area_code    object     0       0.0\n",
              "3              international_plan    object     0       0.0\n",
              "4                 voice_mail_plan    object     0       0.0\n",
              "5           number_vmail_messages     int64     0       0.0\n",
              "6               total_day_minutes   float64     0       0.0\n",
              "7                 total_day_calls     int64     0       0.0\n",
              "8                total_day_charge   float64     0       0.0\n",
              "9               total_eve_minutes   float64     0       0.0\n",
              "10                total_eve_calls     int64     0       0.0\n",
              "11               total_eve_charge   float64     0       0.0\n",
              "12            total_night_minutes   float64     0       0.0\n",
              "13              total_night_calls     int64     0       0.0\n",
              "14             total_night_charge   float64     0       0.0\n",
              "15             total_intl_minutes   float64     0       0.0\n",
              "16               total_intl_calls     int64     0       0.0\n",
              "17              total_intl_charge   float64     0       0.0\n",
              "18  number_customer_service_calls     int64     0       0.0\n",
              "19                          churn     int64     0       0.0"
            ]
          },
          "execution_count": 56,
          "metadata": {},
          "output_type": "execute_result"
        }
      ],
      "source": [
        "print(\"Total Rows :\", test.shape[0])\n",
        "print(\"Total Features :\", test.shape[1])\n",
        "print(\"Duplicate Value:\", test.duplicated().sum())\n",
        "list_test = []\n",
        "for col in train.columns:\n",
        "    list_test.append([col, test[col].dtype, test[col].isna().sum(), 100*test[col].isna().sum()/len(test[col])])\n",
        "test_desc = pd.DataFrame(data=list_test, columns=['Feature','Data Type','Null', 'Null (%)'])\n",
        "test_desc"
      ]
    },
    {
      "cell_type": "code",
      "execution_count": 57,
      "metadata": {
        "colab": {
          "base_uri": "https://localhost:8080/",
          "height": 504
        },
        "id": "e7NVnkdiDPp1",
        "outputId": "be5df8f9-9d31-4dbc-a3af-d9cc1394d9cb"
      },
      "outputs": [
        {
          "data": {
            "text/plain": [
              "0    639\n",
              "1    111\n",
              "Name: churn, dtype: int64"
            ]
          },
          "execution_count": 57,
          "metadata": {},
          "output_type": "execute_result"
        },
        {
          "data": {
            "image/png": "[encoded data removed]",
            "text/plain": [
              "<Figure size 640x480 with 1 Axes>"
            ]
          },
          "metadata": {},
          "output_type": "display_data"
        }
      ],
      "source": [
        "sns.countplot(x='churn', data=test, palette='coolwarm_r')\n",
        "\n",
        "test['churn'].value_counts()"
      ]
    },
    {
      "cell_type": "code",
      "execution_count": null,
      "metadata": {},
      "outputs": [],
      "source": []
    }
  ],
  "metadata": {
    "colab": {
      "collapsed_sections": [
        "on2Vj6DDQ1IT",
        "nRcs7F5rNseh",
        "cvKqwCdwZehw",
        "UCwWBTBM7umt"
      ],
      "provenance": [],
      "toc_visible": true
    },
    "kernelspec": {
      "display_name": "Python 3",
      "name": "python3"
    },
    "language_info": {
      "codemirror_mode": {
        "name": "ipython",
        "version": 3
      },
      "file_extension": ".py",
      "mimetype": "text/x-python",
      "name": "python",
      "nbconvert_exporter": "python",
      "pygments_lexer": "ipython3",
      "version": "3.11.0"
    }
  },
  "nbformat": 4,
  "nbformat_minor": 0
}
